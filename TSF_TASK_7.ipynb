{
  "nbformat": 4,
  "nbformat_minor": 0,
  "metadata": {
    "colab": {
      "name": "TSF-TASK-7.ipynb",
      "provenance": [],
      "collapsed_sections": [],
      "toc_visible": true,
      "authorship_tag": "ABX9TyO5Ub+3a5xSXiCalBlGWydW"
    },
    "kernelspec": {
      "display_name": "Python 3",
      "name": "python3"
    },
    "language_info": {
      "name": "python"
    }
  },
  "cells": [
    {
      "cell_type": "markdown",
      "metadata": {
        "id": "lbna-m_gfufx"
      },
      "source": [
        "#**RAGINI LASKAR**"
      ]
    },
    {
      "cell_type": "markdown",
      "metadata": {
        "id": "Px4Ry7Okf35D"
      },
      "source": [
        "**Stock Market Prediction using Numerical and Textual Analysis**\n"
      ]
    },
    {
      "cell_type": "markdown",
      "metadata": {
        "id": "OFyimNITf-xL"
      },
      "source": [
        "# Library Imports"
      ]
    },
    {
      "cell_type": "code",
      "metadata": {
        "colab": {
          "base_uri": "https://localhost:8080/"
        },
        "id": "ici_Tr12UfM0",
        "outputId": "eaa88edd-7aec-4c34-cd56-104574a08969"
      },
      "source": [
        "from sklearn.preprocessing import MinMaxScaler\n",
        "from sklearn.metrics import mean_squared_error\n",
        "from sklearn import metrics \n",
        "from keras.models import Sequential\n",
        "from keras.layers import Dense, LSTM\n",
        "import pandas as pd\n",
        "import matplotlib.pyplot as plt\n",
        "import numpy as np\n",
        "import math\n",
        "import re\n",
        "import nltk\n",
        "import re\n",
        "from nltk.corpus import stopwords\n",
        "nltk.download('stopwords')\n",
        "nltk.download('vader_lexicon')\n",
        "from textblob import TextBlob\n",
        "from nltk.sentiment.vader import SentimentIntensityAnalyzer\n",
        "from sklearn.ensemble import RandomForestRegressor, AdaBoostRegressor\n",
        "import xgboost\n",
        "\n"
      ],
      "execution_count": 1,
      "outputs": [
        {
          "output_type": "stream",
          "text": [
            "[nltk_data] Downloading package stopwords to /root/nltk_data...\n",
            "[nltk_data]   Package stopwords is already up-to-date!\n",
            "[nltk_data] Downloading package vader_lexicon to /root/nltk_data...\n",
            "[nltk_data]   Package vader_lexicon is already up-to-date!\n"
          ],
          "name": "stdout"
        },
        {
          "output_type": "stream",
          "text": [
            "/usr/local/lib/python3.7/dist-packages/nltk/twitter/__init__.py:20: UserWarning: The twython library has not been installed. Some functionality from the twitter package will not be available.\n",
            "  warnings.warn(\"The twython library has not been installed. \"\n"
          ],
          "name": "stderr"
        }
      ]
    },
    {
      "cell_type": "markdown",
      "metadata": {
        "id": "GE8aUxr7gI3S"
      },
      "source": [
        "# Loading and Working with the Dataset"
      ]
    },
    {
      "cell_type": "code",
      "metadata": {
        "colab": {
          "base_uri": "https://localhost:8080/",
          "height": 204
        },
        "id": "yYW6pOjxcMPL",
        "outputId": "9585afd6-5f22-402f-d810-a3c16b098dd8"
      },
      "source": [
        "# Dataframe for exploratory analysis\n",
        "df=pd.read_csv('/content/AAPL.csv')\n",
        "df.head()"
      ],
      "execution_count": 2,
      "outputs": [
        {
          "output_type": "execute_result",
          "data": {
            "text/html": [
              "<div>\n",
              "<style scoped>\n",
              "    .dataframe tbody tr th:only-of-type {\n",
              "        vertical-align: middle;\n",
              "    }\n",
              "\n",
              "    .dataframe tbody tr th {\n",
              "        vertical-align: top;\n",
              "    }\n",
              "\n",
              "    .dataframe thead th {\n",
              "        text-align: right;\n",
              "    }\n",
              "</style>\n",
              "<table border=\"1\" class=\"dataframe\">\n",
              "  <thead>\n",
              "    <tr style=\"text-align: right;\">\n",
              "      <th></th>\n",
              "      <th>Date</th>\n",
              "      <th>Open</th>\n",
              "      <th>High</th>\n",
              "      <th>Low</th>\n",
              "      <th>Close</th>\n",
              "      <th>Adj Close</th>\n",
              "      <th>Volume</th>\n",
              "    </tr>\n",
              "  </thead>\n",
              "  <tbody>\n",
              "    <tr>\n",
              "      <th>0</th>\n",
              "      <td>2020-01-21</td>\n",
              "      <td>79.297501</td>\n",
              "      <td>79.754997</td>\n",
              "      <td>79.000000</td>\n",
              "      <td>79.142502</td>\n",
              "      <td>78.214951</td>\n",
              "      <td>110843200</td>\n",
              "    </tr>\n",
              "    <tr>\n",
              "      <th>1</th>\n",
              "      <td>2020-01-22</td>\n",
              "      <td>79.644997</td>\n",
              "      <td>79.997498</td>\n",
              "      <td>79.327499</td>\n",
              "      <td>79.425003</td>\n",
              "      <td>78.494141</td>\n",
              "      <td>101832400</td>\n",
              "    </tr>\n",
              "    <tr>\n",
              "      <th>2</th>\n",
              "      <td>2020-01-23</td>\n",
              "      <td>79.480003</td>\n",
              "      <td>79.889999</td>\n",
              "      <td>78.912498</td>\n",
              "      <td>79.807503</td>\n",
              "      <td>78.872154</td>\n",
              "      <td>104472000</td>\n",
              "    </tr>\n",
              "    <tr>\n",
              "      <th>3</th>\n",
              "      <td>2020-01-24</td>\n",
              "      <td>80.062500</td>\n",
              "      <td>80.832497</td>\n",
              "      <td>79.379997</td>\n",
              "      <td>79.577499</td>\n",
              "      <td>78.644852</td>\n",
              "      <td>146537600</td>\n",
              "    </tr>\n",
              "    <tr>\n",
              "      <th>4</th>\n",
              "      <td>2020-01-27</td>\n",
              "      <td>77.514999</td>\n",
              "      <td>77.942497</td>\n",
              "      <td>76.220001</td>\n",
              "      <td>77.237503</td>\n",
              "      <td>76.332275</td>\n",
              "      <td>161940000</td>\n",
              "    </tr>\n",
              "  </tbody>\n",
              "</table>\n",
              "</div>"
            ],
            "text/plain": [
              "         Date       Open       High        Low      Close  Adj Close     Volume\n",
              "0  2020-01-21  79.297501  79.754997  79.000000  79.142502  78.214951  110843200\n",
              "1  2020-01-22  79.644997  79.997498  79.327499  79.425003  78.494141  101832400\n",
              "2  2020-01-23  79.480003  79.889999  78.912498  79.807503  78.872154  104472000\n",
              "3  2020-01-24  80.062500  80.832497  79.379997  79.577499  78.644852  146537600\n",
              "4  2020-01-27  77.514999  77.942497  76.220001  77.237503  76.332275  161940000"
            ]
          },
          "metadata": {
            "tags": []
          },
          "execution_count": 2
        }
      ]
    },
    {
      "cell_type": "code",
      "metadata": {
        "colab": {
          "base_uri": "https://localhost:8080/",
          "height": 473
        },
        "id": "jVh2sf-EgQW4",
        "outputId": "36743b92-46b4-4fe5-a2a6-63a70eb36d8c"
      },
      "source": [
        "\n",
        "# Extract date frame and plot closing stock price w.r.t time\n",
        "df['Date'] = pd.to_datetime(df.Date,format='%Y-%m-%d')\n",
        "\n",
        "#plot\n",
        "plt.figure(figsize=(16,8))\n",
        "plt.plot(df['Date'], df['Close'])"
      ],
      "execution_count": 3,
      "outputs": [
        {
          "output_type": "execute_result",
          "data": {
            "text/plain": [
              "[<matplotlib.lines.Line2D at 0x7f6c9010b250>]"
            ]
          },
          "metadata": {
            "tags": []
          },
          "execution_count": 3
        },
        {
          "output_type": "display_data",
          "data": {
            "image/png": "[encoded data removed]",
            "text/plain": [
              "<Figure size 1152x576 with 1 Axes>"
            ]
          },
          "metadata": {
            "tags": [],
            "needs_background": "light"
          }
        }
      ]
    },
    {
      "cell_type": "code",
      "metadata": {
        "id": "tb7ASw5fq_18"
      },
      "source": [
        "# fix random seed for reproducibility\n",
        "np.random.seed(7)"
      ],
      "execution_count": 4,
      "outputs": []
    },
    {
      "cell_type": "markdown",
      "metadata": {
        "id": "hQdJ6foRgbcO"
      },
      "source": [
        "# Creating a dataframe for storing the Closing stock data per day"
      ]
    },
    {
      "cell_type": "code",
      "metadata": {
        "colab": {
          "base_uri": "https://localhost:8080/"
        },
        "id": "FDWxel8ArAnR",
        "outputId": "122b05a3-670f-4b50-e973-d8022951a7b8"
      },
      "source": [
        "\n",
        "# load the dataset\n",
        "dataframe = pd.read_csv('/content/AAPL.csv', usecols=[5], engine='python')\n",
        "dataset = dataframe.values\n",
        "dataset = dataset.astype('float32')\n",
        "print(dataset)\n"
      ],
      "execution_count": 5,
      "outputs": [
        {
          "output_type": "stream",
          "text": [
            "[[ 78.21495 ]\n",
            " [ 78.49414 ]\n",
            " [ 78.872154]\n",
            " [ 78.64485 ]\n",
            " [ 76.332275]\n",
            " [ 78.49167 ]\n",
            " [ 80.134674]\n",
            " [ 80.018555]\n",
            " [ 76.470634]\n",
            " [ 76.26063 ]\n",
            " [ 78.77827 ]\n",
            " [ 79.42065 ]\n",
            " [ 80.34963 ]\n",
            " [ 79.25747 ]\n",
            " [ 79.6339  ]\n",
            " [ 79.15344 ]\n",
            " [ 81.033165]\n",
            " [ 80.456116]\n",
            " [ 80.47594 ]\n",
            " [ 79.00238 ]\n",
            " [ 80.146545]\n",
            " [ 79.32433 ]\n",
            " [ 77.52881 ]\n",
            " [ 73.84616 ]\n",
            " [ 71.34484 ]\n",
            " [ 72.47663 ]\n",
            " [ 67.73897 ]\n",
            " [ 67.69934 ]\n",
            " [ 74.0022  ]\n",
            " [ 71.65193 ]\n",
            " [ 74.97548 ]\n",
            " [ 72.543495]\n",
            " [ 71.580124]\n",
            " [ 65.91869 ]\n",
            " [ 70.66627 ]\n",
            " [ 68.21199 ]\n",
            " [ 61.47574 ]\n",
            " [ 68.841034]\n",
            " [ 59.984844]\n",
            " [ 62.622387]\n",
            " [ 61.089394]\n",
            " [ 60.62132 ]\n",
            " [ 56.772747]\n",
            " [ 55.566658]\n",
            " [ 61.141407]\n",
            " [ 60.80459 ]\n",
            " [ 64.00431 ]\n",
            " [ 61.354385]\n",
            " [ 63.105312]\n",
            " [ 62.976532]\n",
            " [ 59.662895]\n",
            " [ 60.65847 ]\n",
            " [ 59.786724]\n",
            " [ 65.00236 ]\n",
            " [ 64.24949 ]\n",
            " [ 65.89393 ]\n",
            " [ 66.369415]\n",
            " [ 67.6721  ]\n",
            " [ 71.089745]\n",
            " [ 70.440895]\n",
            " [ 71.0006  ]\n",
            " [ 70.03722 ]\n",
            " [ 68.58347 ]\n",
            " [ 66.46354 ]\n",
            " [ 68.37792 ]\n",
            " [ 68.11292 ]\n",
            " [ 70.079315]\n",
            " [ 70.12885 ]\n",
            " [ 68.99212 ]\n",
            " [ 71.25816 ]\n",
            " [ 72.76144 ]\n",
            " [ 71.590034]\n",
            " [ 72.602936]\n",
            " [ 73.69263 ]\n",
            " [ 74.45293 ]\n",
            " [ 75.22314 ]\n",
            " [ 77.01358 ]\n",
            " [ 78.22541 ]\n",
            " [ 77.331436]\n",
            " [ 76.39772 ]\n",
            " [ 76.867065]\n",
            " [ 76.41262 ]\n",
            " [ 78.213   ]\n",
            " [ 77.76104 ]\n",
            " [ 79.27335 ]\n",
            " [ 78.68233 ]\n",
            " [ 79.18893 ]\n",
            " [ 78.65254 ]\n",
            " [ 78.995224]\n",
            " [ 79.02998 ]\n",
            " [ 78.95302 ]\n",
            " [ 79.923965]\n",
            " [ 80.29397 ]\n",
            " [ 80.73599 ]\n",
            " [ 80.04068 ]\n",
            " [ 82.32033 ]\n",
            " [ 82.80704 ]\n",
            " [ 85.42192 ]\n",
            " [ 87.61961 ]\n",
            " [ 83.412964]\n",
            " [ 84.133095]\n",
            " [ 85.173584]\n",
            " [ 87.430885]\n",
            " [ 87.309204]\n",
            " [ 87.34398 ]\n",
            " [ 86.84483 ]\n",
            " [ 89.11703 ]\n",
            " [ 91.0192  ]\n",
            " [ 89.41254 ]\n",
            " [ 90.59953 ]\n",
            " [ 87.81579 ]\n",
            " [ 89.83965 ]\n",
            " [ 90.5896  ]\n",
            " [ 90.41825 ]\n",
            " [ 90.41825 ]\n",
            " [ 92.83696 ]\n",
            " [ 92.54889 ]\n",
            " [ 94.70437 ]\n",
            " [ 95.11164 ]\n",
            " [ 95.278015]\n",
            " [ 94.83847 ]\n",
            " [ 96.4079  ]\n",
            " [ 97.07093 ]\n",
            " [ 95.87647 ]\n",
            " [ 95.68278 ]\n",
            " [ 97.69919 ]\n",
            " [ 96.350784]\n",
            " [ 96.62145 ]\n",
            " [ 92.22359 ]\n",
            " [ 91.995125]\n",
            " [ 94.17543 ]\n",
            " [ 92.628365]\n",
            " [ 94.40389 ]\n",
            " [ 95.5462  ]\n",
            " [105.548805]\n",
            " [108.20839 ]\n",
            " [108.931015]\n",
            " [109.32585 ]\n",
            " [113.14015 ]\n",
            " [110.56783 ]\n",
            " [112.17491 ]\n",
            " [108.83884 ]\n",
            " [112.456024]\n",
            " [114.44621 ]\n",
            " [114.34422 ]\n",
            " [114.045685]\n",
            " [114.99601 ]\n",
            " [115.1403  ]\n",
            " [117.69521 ]\n",
            " [123.76034 ]\n",
            " [125.24054 ]\n",
            " [124.213104]\n",
            " [125.90228 ]\n",
            " [124.3972  ]\n",
            " [124.195694]\n",
            " [128.40744 ]\n",
            " [133.52225 ]\n",
            " [130.75587 ]\n",
            " [120.28744 ]\n",
            " [120.36705 ]\n",
            " [112.26695 ]\n",
            " [116.74489 ]\n",
            " [112.93367 ]\n",
            " [111.45097 ]\n",
            " [114.7945  ]\n",
            " [114.973625]\n",
            " [111.58033 ]\n",
            " [109.79911 ]\n",
            " [106.31626 ]\n",
            " [109.54038 ]\n",
            " [111.261894]\n",
            " [106.5949  ]\n",
            " [107.68951 ]\n",
            " [111.72959 ]\n",
            " [114.396454]\n",
            " [113.53072 ]\n",
            " [115.242294]\n",
            " [116.21749 ]\n",
            " [112.46597 ]\n",
            " [115.92891 ]\n",
            " [112.605286]\n",
            " [114.51588 ]\n",
            " [114.40641 ]\n",
            " [116.39661 ]\n",
            " [123.79019 ]\n",
            " [120.506355]\n",
            " [120.595924]\n",
            " [120.11827 ]\n",
            " [118.436554]\n",
            " [115.41146 ]\n",
            " [116.93397 ]\n",
            " [116.297104]\n",
            " [115.18259 ]\n",
            " [114.476074]\n",
            " [114.48602 ]\n",
            " [116.02843 ]\n",
            " [110.65489 ]\n",
            " [114.7547  ]\n",
            " [108.32636 ]\n",
            " [108.23681 ]\n",
            " [109.89862 ]\n",
            " [114.38651 ]\n",
            " [118.44651 ]\n",
            " [118.31195 ]\n",
            " [115.94949 ]\n",
            " [115.60061 ]\n",
            " [119.10939 ]\n",
            " [118.830284]\n",
            " [118.88013 ]\n",
            " [119.91682 ]\n",
            " [119.00971 ]\n",
            " [117.654045]\n",
            " [118.26211 ]\n",
            " [116.96624 ]\n",
            " [113.48736 ]\n",
            " [114.803154]\n",
            " [115.660416]\n",
            " [116.21863 ]\n",
            " [118.6708  ]\n",
            " [122.32911 ]\n",
            " [122.68796 ]\n",
            " [122.54841 ]\n",
            " [121.86061 ]\n",
            " [123.35583 ]\n",
            " [123.98382 ]\n",
            " [121.3921  ]\n",
            " [122.84745 ]\n",
            " [122.020096]\n",
            " [121.3921  ]\n",
            " [127.472664]\n",
            " [127.40289 ]\n",
            " [128.29005 ]\n",
            " [126.25656 ]\n",
            " [127.82155 ]\n",
            " [131.45993 ]\n",
            " [130.54286 ]\n",
            " [131.54964 ]\n",
            " [136.25461 ]\n",
            " [134.4404  ]\n",
            " [133.29407 ]\n",
            " [132.26735 ]\n",
            " [128.9978  ]\n",
            " [130.5927  ]\n",
            " [126.19675 ]\n",
            " [130.50299 ]\n",
            " [131.62938 ]\n",
            " [128.56917 ]\n",
            " [128.38974 ]\n",
            " [130.47308 ]\n",
            " [128.4994  ]\n",
            " [126.73502 ]\n",
            " [127.42283 ]]\n"
          ],
          "name": "stdout"
        }
      ]
    },
    {
      "cell_type": "markdown",
      "metadata": {
        "id": "d1KcrJwugjDo"
      },
      "source": [
        "#  Data Normalization and Division into Training and Test sets"
      ]
    },
    {
      "cell_type": "code",
      "metadata": {
        "colab": {
          "base_uri": "https://localhost:8080/"
        },
        "id": "Mnxq4lCCrlRh",
        "outputId": "f4afb0e8-d69d-404e-92d7-26c2fb1ed9a3"
      },
      "source": [
        "\n",
        "# normalize the dataset\n",
        "scaler = MinMaxScaler(feature_range=(0, 1))\n",
        "dataset = scaler.fit_transform(dataset)\n",
        "print(dataset)\n"
      ],
      "execution_count": 6,
      "outputs": [
        {
          "output_type": "stream",
          "text": [
            "[[0.2806899 ]\n",
            " [0.28415   ]\n",
            " [0.28883493]\n",
            " [0.28601784]\n",
            " [0.25735712]\n",
            " [0.28411937]\n",
            " [0.30448186]\n",
            " [0.30304277]\n",
            " [0.2590719 ]\n",
            " [0.25646913]\n",
            " [0.28767133]\n",
            " [0.2956326 ]\n",
            " [0.30714595]\n",
            " [0.29361027]\n",
            " [0.2982756 ]\n",
            " [0.29232103]\n",
            " [0.31561726]\n",
            " [0.3084656 ]\n",
            " [0.3087113 ]\n",
            " [0.29044884]\n",
            " [0.30462897]\n",
            " [0.29443896]\n",
            " [0.27218628]\n",
            " [0.22654563]\n",
            " [0.19554573]\n",
            " [0.2095725 ]\n",
            " [0.15085661]\n",
            " [0.15036547]\n",
            " [0.22847944]\n",
            " [0.19935161]\n",
            " [0.24054176]\n",
            " [0.21040118]\n",
            " [0.19846171]\n",
            " [0.12829715]\n",
            " [0.18713588]\n",
            " [0.15671897]\n",
            " [0.07323372]\n",
            " [0.16451496]\n",
            " [0.05475646]\n",
            " [0.08744466]\n",
            " [0.06844562]\n",
            " [0.06264454]\n",
            " [0.01494759]\n",
            " [0.        ]\n",
            " [0.06909025]\n",
            " [0.0649159 ]\n",
            " [0.1045714 ]\n",
            " [0.07172978]\n",
            " [0.09342974]\n",
            " [0.09183371]\n",
            " [0.05076641]\n",
            " [0.06310499]\n",
            " [0.05230111]\n",
            " [0.11694062]\n",
            " [0.10761005]\n",
            " [0.12799025]\n",
            " [0.13388318]\n",
            " [0.15002787]\n",
            " [0.19238418]\n",
            " [0.18434274]\n",
            " [0.19127941]\n",
            " [0.17933977]\n",
            " [0.16132295]\n",
            " [0.1350497 ]\n",
            " [0.15877545]\n",
            " [0.15549117]\n",
            " [0.17986155]\n",
            " [0.18047547]\n",
            " [0.16638744]\n",
            " [0.19447148]\n",
            " [0.21310222]\n",
            " [0.1985845 ]\n",
            " [0.21113783]\n",
            " [0.22464281]\n",
            " [0.23406553]\n",
            " [0.2436111 ]\n",
            " [0.26580083]\n",
            " [0.28081954]\n",
            " [0.26974016]\n",
            " [0.25816822]\n",
            " [0.26398498]\n",
            " [0.25835288]\n",
            " [0.2806657 ]\n",
            " [0.2750644 ]\n",
            " [0.29380715]\n",
            " [0.28648233]\n",
            " [0.2927608 ]\n",
            " [0.28611314]\n",
            " [0.29036015]\n",
            " [0.29079098]\n",
            " [0.28983712]\n",
            " [0.30187047]\n",
            " [0.30645603]\n",
            " [0.3119343 ]\n",
            " [0.30331695]\n",
            " [0.3315696 ]\n",
            " [0.3376016 ]\n",
            " [0.370009  ]\n",
            " [0.39724594]\n",
            " [0.34511107]\n",
            " [0.35403603]\n",
            " [0.36693126]\n",
            " [0.39490694]\n",
            " [0.39339882]\n",
            " [0.39382988]\n",
            " [0.38764375]\n",
            " [0.41580397]\n",
            " [0.43937844]\n",
            " [0.41946632]\n",
            " [0.43417734]\n",
            " [0.39967722]\n",
            " [0.4247598 ]\n",
            " [0.4340542 ]\n",
            " [0.4319306 ]\n",
            " [0.4319306 ]\n",
            " [0.46190673]\n",
            " [0.45833653]\n",
            " [0.48505026]\n",
            " [0.49009782]\n",
            " [0.49215966]\n",
            " [0.48671228]\n",
            " [0.5061628 ]\n",
            " [0.51438004]\n",
            " [0.49957663]\n",
            " [0.4971761 ]\n",
            " [0.5221663 ]\n",
            " [0.50545496]\n",
            " [0.5088095 ]\n",
            " [0.45430487]\n",
            " [0.4514734 ]\n",
            " [0.47849494]\n",
            " [0.45932144]\n",
            " [0.48132628]\n",
            " [0.49548346]\n",
            " [0.6194499 ]\n",
            " [0.6524113 ]\n",
            " [0.6613671 ]\n",
            " [0.66626054]\n",
            " [0.71353275]\n",
            " [0.68165296]\n",
            " [0.7015701 ]\n",
            " [0.66022474]\n",
            " [0.7050541 ]\n",
            " [0.72971934]\n",
            " [0.72845536]\n",
            " [0.72475535]\n",
            " [0.7365332 ]\n",
            " [0.73832136]\n",
            " [0.7699856 ]\n",
            " [0.8451533 ]\n",
            " [0.86349803]\n",
            " [0.8507646 ]\n",
            " [0.8716993 ]\n",
            " [0.8530461 ]\n",
            " [0.8505488 ]\n",
            " [0.90274674]\n",
            " [0.96613675]\n",
            " [0.9318519 ]\n",
            " [0.80211204]\n",
            " [0.80309874]\n",
            " [0.7027108 ]\n",
            " [0.75820774]\n",
            " [0.7109737 ]\n",
            " [0.69259804]\n",
            " [0.7340358 ]\n",
            " [0.7362557 ]\n",
            " [0.6942012 ]\n",
            " [0.67212576]\n",
            " [0.6289614 ]\n",
            " [0.66891927]\n",
            " [0.69025475]\n",
            " [0.63241464]\n",
            " [0.64598054]\n",
            " [0.69605106]\n",
            " [0.7291027 ]\n",
            " [0.71837324]\n",
            " [0.73958546]\n",
            " [0.7516715 ]\n",
            " [0.70517737]\n",
            " [0.748095  ]\n",
            " [0.7069039 ]\n",
            " [0.73058265]\n",
            " [0.72922605]\n",
            " [0.7538914 ]\n",
            " [0.8455232 ]\n",
            " [0.80482525]\n",
            " [0.8059353 ]\n",
            " [0.8000155 ]\n",
            " [0.7791733 ]\n",
            " [0.741682  ]\n",
            " [0.76055115]\n",
            " [0.7526582 ]\n",
            " [0.7388455 ]\n",
            " [0.73008937]\n",
            " [0.73021275]\n",
            " [0.7493283 ]\n",
            " [0.6827319 ]\n",
            " [0.7335425 ]\n",
            " [0.6538734 ]\n",
            " [0.65276355]\n",
            " [0.6733591 ]\n",
            " [0.7289794 ]\n",
            " [0.7792967 ]\n",
            " [0.7776291 ]\n",
            " [0.7483501 ]\n",
            " [0.74402624]\n",
            " [0.787512  ]\n",
            " [0.784053  ]\n",
            " [0.78467065]\n",
            " [0.7975188 ]\n",
            " [0.78627676]\n",
            " [0.7694754 ]\n",
            " [0.77701133]\n",
            " [0.7609511 ]\n",
            " [0.71783584]\n",
            " [0.7341431 ]\n",
            " [0.7447675 ]\n",
            " [0.75168556]\n",
            " [0.7820764 ]\n",
            " [0.8274154 ]\n",
            " [0.83186275]\n",
            " [0.83013326]\n",
            " [0.8216091 ]\n",
            " [0.8401399 ]\n",
            " [0.84792286]\n",
            " [0.81580263]\n",
            " [0.83383936]\n",
            " [0.8235857 ]\n",
            " [0.81580263]\n",
            " [0.8911616 ]\n",
            " [0.890297  ]\n",
            " [0.9012919 ]\n",
            " [0.87609   ]\n",
            " [0.8954856 ]\n",
            " [0.94057757]\n",
            " [0.9292119 ]\n",
            " [0.9416893 ]\n",
            " [1.        ]\n",
            " [0.97751576]\n",
            " [0.96330875]\n",
            " [0.95058423]\n",
            " [0.9100633 ]\n",
            " [0.92982954]\n",
            " [0.8753486 ]\n",
            " [0.9287178 ]\n",
            " [0.94267756]\n",
            " [0.9047511 ]\n",
            " [0.9025274 ]\n",
            " [0.9283472 ]\n",
            " [0.9038865 ]\n",
            " [0.8820198 ]\n",
            " [0.890544  ]]\n"
          ],
          "name": "stdout"
        }
      ]
    },
    {
      "cell_type": "code",
      "metadata": {
        "colab": {
          "base_uri": "https://localhost:8080/"
        },
        "id": "ZYhiISIprpBQ",
        "outputId": "502e5b2b-8216-4e39-83b2-430c4ef572e8"
      },
      "source": [
        "\n",
        "# split into train and test sets\n",
        "train_size = int(len(dataset) * 0.67)\n",
        "test_size = len(dataset) - train_size\n",
        "train, test = dataset[0:train_size,:], dataset[train_size:len(dataset),:]\n",
        "print(len(train), len(test))\n"
      ],
      "execution_count": 7,
      "outputs": [
        {
          "output_type": "stream",
          "text": [
            "168 84\n"
          ],
          "name": "stdout"
        }
      ]
    },
    {
      "cell_type": "code",
      "metadata": {
        "id": "20JddM5HwTlI"
      },
      "source": [
        "\n",
        "# convert an array of values into a dataset matrix\n",
        "def create_dataset(dataset, look_back=1):\n",
        "\tdataX, dataY = [], []\n",
        "\tfor i in range(len(dataset)-look_back-1):\n",
        "\t\ta = dataset[i:(i+look_back), 0]\n",
        "\t\tdataX.append(a)\n",
        "\t\tdataY.append(dataset[i + look_back, 0])\n",
        "\treturn np.array(dataX), np.array(dataY)\n"
      ],
      "execution_count": 8,
      "outputs": []
    },
    {
      "cell_type": "code",
      "metadata": {
        "colab": {
          "base_uri": "https://localhost:8080/"
        },
        "id": "KEV1wwgryGJ-",
        "outputId": "abf0b99b-6061-4758-dbe3-178bc196cf4e"
      },
      "source": [
        "# reshape into X=t and Y=t+1\n",
        "look_back = 1\n",
        "trainX, trainY = create_dataset(train, look_back)\n",
        "testX, testY = create_dataset(test, look_back)\n",
        "print(trainX[0:5])\n",
        "print(trainY[0:5])"
      ],
      "execution_count": 9,
      "outputs": [
        {
          "output_type": "stream",
          "text": [
            "[[0.2806899 ]\n",
            " [0.28415   ]\n",
            " [0.28883493]\n",
            " [0.28601784]\n",
            " [0.25735712]]\n",
            "[0.28415    0.28883493 0.28601784 0.25735712 0.28411937]\n"
          ],
          "name": "stdout"
        }
      ]
    },
    {
      "cell_type": "code",
      "metadata": {
        "id": "YcGRbP25zlMl"
      },
      "source": [
        "# reshape input to be [samples, time steps, features]\n",
        "trainX = np.reshape(trainX, (trainX.shape[0], 1, trainX.shape[1]))\n",
        "testX = np.reshape(testX, (testX.shape[0], 1, testX.shape[1]))"
      ],
      "execution_count": 10,
      "outputs": []
    },
    {
      "cell_type": "markdown",
      "metadata": {
        "id": "urxcmOE2g1bQ"
      },
      "source": [
        "# Creating a LSTM for Numerical Analysis"
      ]
    },
    {
      "cell_type": "code",
      "metadata": {
        "colab": {
          "base_uri": "https://localhost:8080/"
        },
        "id": "mtpIB4al0ln6",
        "outputId": "6557fced-24ef-4447-aa99-4662592815f7"
      },
      "source": [
        "# create and fit the LSTM network\n",
        "model = Sequential()\n",
        "model.add(LSTM(4, input_shape=(1, look_back)))\n",
        "model.add(Dense(1))\n",
        "model.compile(loss='mean_squared_error', optimizer='adam')\n",
        "model.fit(trainX, trainY, epochs=100, batch_size=1, verbose=2)"
      ],
      "execution_count": 11,
      "outputs": [
        {
          "output_type": "stream",
          "text": [
            "Epoch 1/100\n",
            "166/166 - 18s - loss: 0.0886\n",
            "Epoch 2/100\n",
            "166/166 - 0s - loss: 0.0316\n",
            "Epoch 3/100\n",
            "166/166 - 0s - loss: 0.0214\n",
            "Epoch 4/100\n",
            "166/166 - 0s - loss: 0.0172\n",
            "Epoch 5/100\n",
            "166/166 - 0s - loss: 0.0130\n",
            "Epoch 6/100\n",
            "166/166 - 0s - loss: 0.0093\n",
            "Epoch 7/100\n",
            "166/166 - 0s - loss: 0.0062\n",
            "Epoch 8/100\n",
            "166/166 - 0s - loss: 0.0039\n",
            "Epoch 9/100\n",
            "166/166 - 0s - loss: 0.0024\n",
            "Epoch 10/100\n",
            "166/166 - 0s - loss: 0.0017\n",
            "Epoch 11/100\n",
            "166/166 - 0s - loss: 0.0013\n",
            "Epoch 12/100\n",
            "166/166 - 0s - loss: 0.0012\n",
            "Epoch 13/100\n",
            "166/166 - 0s - loss: 0.0011\n",
            "Epoch 14/100\n",
            "166/166 - 0s - loss: 0.0011\n",
            "Epoch 15/100\n",
            "166/166 - 0s - loss: 0.0011\n",
            "Epoch 16/100\n",
            "166/166 - 0s - loss: 0.0011\n",
            "Epoch 17/100\n",
            "166/166 - 0s - loss: 0.0011\n",
            "Epoch 18/100\n",
            "166/166 - 0s - loss: 0.0011\n",
            "Epoch 19/100\n",
            "166/166 - 0s - loss: 0.0011\n",
            "Epoch 20/100\n",
            "166/166 - 0s - loss: 0.0011\n",
            "Epoch 21/100\n",
            "166/166 - 0s - loss: 0.0011\n",
            "Epoch 22/100\n",
            "166/166 - 0s - loss: 0.0011\n",
            "Epoch 23/100\n",
            "166/166 - 0s - loss: 0.0011\n",
            "Epoch 24/100\n",
            "166/166 - 0s - loss: 0.0011\n",
            "Epoch 25/100\n",
            "166/166 - 0s - loss: 0.0011\n",
            "Epoch 26/100\n",
            "166/166 - 0s - loss: 0.0011\n",
            "Epoch 27/100\n",
            "166/166 - 0s - loss: 0.0011\n",
            "Epoch 28/100\n",
            "166/166 - 0s - loss: 0.0011\n",
            "Epoch 29/100\n",
            "166/166 - 0s - loss: 0.0011\n",
            "Epoch 30/100\n",
            "166/166 - 0s - loss: 0.0011\n",
            "Epoch 31/100\n",
            "166/166 - 0s - loss: 0.0012\n",
            "Epoch 32/100\n",
            "166/166 - 0s - loss: 0.0011\n",
            "Epoch 33/100\n",
            "166/166 - 0s - loss: 0.0011\n",
            "Epoch 34/100\n",
            "166/166 - 0s - loss: 0.0011\n",
            "Epoch 35/100\n",
            "166/166 - 0s - loss: 0.0011\n",
            "Epoch 36/100\n",
            "166/166 - 0s - loss: 0.0011\n",
            "Epoch 37/100\n",
            "166/166 - 0s - loss: 0.0011\n",
            "Epoch 38/100\n",
            "166/166 - 0s - loss: 0.0011\n",
            "Epoch 39/100\n",
            "166/166 - 0s - loss: 0.0011\n",
            "Epoch 40/100\n",
            "166/166 - 0s - loss: 0.0011\n",
            "Epoch 41/100\n",
            "166/166 - 0s - loss: 0.0011\n",
            "Epoch 42/100\n",
            "166/166 - 0s - loss: 0.0011\n",
            "Epoch 43/100\n",
            "166/166 - 0s - loss: 0.0011\n",
            "Epoch 44/100\n",
            "166/166 - 0s - loss: 0.0011\n",
            "Epoch 45/100\n",
            "166/166 - 0s - loss: 0.0011\n",
            "Epoch 46/100\n",
            "166/166 - 0s - loss: 0.0011\n",
            "Epoch 47/100\n",
            "166/166 - 0s - loss: 0.0011\n",
            "Epoch 48/100\n",
            "166/166 - 0s - loss: 0.0011\n",
            "Epoch 49/100\n",
            "166/166 - 0s - loss: 0.0011\n",
            "Epoch 50/100\n",
            "166/166 - 0s - loss: 0.0011\n",
            "Epoch 51/100\n",
            "166/166 - 0s - loss: 0.0011\n",
            "Epoch 52/100\n",
            "166/166 - 0s - loss: 0.0011\n",
            "Epoch 53/100\n",
            "166/166 - 0s - loss: 0.0011\n",
            "Epoch 54/100\n",
            "166/166 - 0s - loss: 0.0011\n",
            "Epoch 55/100\n",
            "166/166 - 0s - loss: 0.0011\n",
            "Epoch 56/100\n",
            "166/166 - 0s - loss: 0.0011\n",
            "Epoch 57/100\n",
            "166/166 - 0s - loss: 0.0011\n",
            "Epoch 58/100\n",
            "166/166 - 0s - loss: 0.0012\n",
            "Epoch 59/100\n",
            "166/166 - 0s - loss: 0.0011\n",
            "Epoch 60/100\n",
            "166/166 - 0s - loss: 0.0011\n",
            "Epoch 61/100\n",
            "166/166 - 0s - loss: 0.0011\n",
            "Epoch 62/100\n",
            "166/166 - 0s - loss: 0.0011\n",
            "Epoch 63/100\n",
            "166/166 - 0s - loss: 0.0011\n",
            "Epoch 64/100\n",
            "166/166 - 0s - loss: 0.0011\n",
            "Epoch 65/100\n",
            "166/166 - 0s - loss: 0.0011\n",
            "Epoch 66/100\n",
            "166/166 - 0s - loss: 0.0011\n",
            "Epoch 67/100\n",
            "166/166 - 0s - loss: 0.0011\n",
            "Epoch 68/100\n",
            "166/166 - 0s - loss: 0.0011\n",
            "Epoch 69/100\n",
            "166/166 - 0s - loss: 0.0011\n",
            "Epoch 70/100\n",
            "166/166 - 0s - loss: 0.0011\n",
            "Epoch 71/100\n",
            "166/166 - 0s - loss: 0.0011\n",
            "Epoch 72/100\n",
            "166/166 - 0s - loss: 0.0011\n",
            "Epoch 73/100\n",
            "166/166 - 0s - loss: 0.0011\n",
            "Epoch 74/100\n",
            "166/166 - 0s - loss: 0.0011\n",
            "Epoch 75/100\n",
            "166/166 - 0s - loss: 0.0011\n",
            "Epoch 76/100\n",
            "166/166 - 0s - loss: 0.0011\n",
            "Epoch 77/100\n",
            "166/166 - 0s - loss: 0.0011\n",
            "Epoch 78/100\n",
            "166/166 - 0s - loss: 0.0011\n",
            "Epoch 79/100\n",
            "166/166 - 0s - loss: 0.0010\n",
            "Epoch 80/100\n",
            "166/166 - 0s - loss: 0.0012\n",
            "Epoch 81/100\n",
            "166/166 - 0s - loss: 0.0011\n",
            "Epoch 82/100\n",
            "166/166 - 0s - loss: 0.0011\n",
            "Epoch 83/100\n",
            "166/166 - 0s - loss: 0.0011\n",
            "Epoch 84/100\n",
            "166/166 - 0s - loss: 0.0012\n",
            "Epoch 85/100\n",
            "166/166 - 0s - loss: 0.0011\n",
            "Epoch 86/100\n",
            "166/166 - 0s - loss: 0.0011\n",
            "Epoch 87/100\n",
            "166/166 - 0s - loss: 0.0011\n",
            "Epoch 88/100\n",
            "166/166 - 0s - loss: 0.0011\n",
            "Epoch 89/100\n",
            "166/166 - 0s - loss: 0.0011\n",
            "Epoch 90/100\n",
            "166/166 - 0s - loss: 0.0011\n",
            "Epoch 91/100\n",
            "166/166 - 0s - loss: 0.0011\n",
            "Epoch 92/100\n",
            "166/166 - 0s - loss: 0.0011\n",
            "Epoch 93/100\n",
            "166/166 - 0s - loss: 0.0011\n",
            "Epoch 94/100\n",
            "166/166 - 0s - loss: 0.0011\n",
            "Epoch 95/100\n",
            "166/166 - 0s - loss: 0.0011\n",
            "Epoch 96/100\n",
            "166/166 - 0s - loss: 0.0011\n",
            "Epoch 97/100\n",
            "166/166 - 0s - loss: 0.0011\n",
            "Epoch 98/100\n",
            "166/166 - 0s - loss: 0.0011\n",
            "Epoch 99/100\n",
            "166/166 - 0s - loss: 0.0011\n",
            "Epoch 100/100\n",
            "166/166 - 0s - loss: 0.0011\n"
          ],
          "name": "stdout"
        },
        {
          "output_type": "execute_result",
          "data": {
            "text/plain": [
              "<keras.callbacks.History at 0x7f6c8c19fe50>"
            ]
          },
          "metadata": {
            "tags": []
          },
          "execution_count": 11
        }
      ]
    },
    {
      "cell_type": "code",
      "metadata": {
        "colab": {
          "base_uri": "https://localhost:8080/"
        },
        "id": "CEvPn5U103kZ",
        "outputId": "16b235a1-0ed1-49e3-b828-d764e82ff6a2"
      },
      "source": [
        "# make predictions\n",
        "trainPredict = model.predict(trainX)\n",
        "testPredict = model.predict(testX)\n",
        "# invert predictions\n",
        "trainPredict = scaler.inverse_transform(trainPredict)\n",
        "trainY = scaler.inverse_transform([trainY])\n",
        "testPredict = scaler.inverse_transform(testPredict)\n",
        "testY = scaler.inverse_transform([testY])\n",
        "# calculate root mean squared error\n",
        "trainScore = math.sqrt(mean_squared_error(trainY[0], trainPredict[:,0]))\n",
        "print('Train Score: %.2f RMSE' % (trainScore))\n",
        "testScore = math.sqrt(mean_squared_error(testY[0], testPredict[:,0]))\n",
        "print('Test Score: %.2f RMSE' % (testScore))"
      ],
      "execution_count": 12,
      "outputs": [
        {
          "output_type": "stream",
          "text": [
            "Train Score: 2.93 RMSE\n",
            "Test Score: 3.48 RMSE\n"
          ],
          "name": "stdout"
        }
      ]
    },
    {
      "cell_type": "markdown",
      "metadata": {
        "id": "dBV4zHXeiHWP"
      },
      "source": [
        "# Making Predictions"
      ]
    },
    {
      "cell_type": "code",
      "metadata": {
        "colab": {
          "base_uri": "https://localhost:8080/",
          "height": 457
        },
        "id": "0-iEkHsQ2gPE",
        "outputId": "9ef86335-184d-4359-a6ed-70fe8f979d74"
      },
      "source": [
        "\n",
        "# shift train predictions for plotting\n",
        "trainPredictPlot = np.empty_like(dataset)\n",
        "trainPredictPlot[:, :] = np.nan\n",
        "trainPredictPlot[look_back:len(trainPredict)+look_back, :] = trainPredict\n",
        "# shift test predictions for plotting\n",
        "testPredictPlot = np.empty_like(dataset)\n",
        "testPredictPlot[:, :] = np.nan\n",
        "testPredictPlot[len(trainPredict)+(look_back*2)+1:len(dataset)-1, :] = testPredict\n",
        "# plot baseline and predictions\n",
        "plt.figure(figsize=(16,8))\n",
        "plt.plot(scaler.inverse_transform(dataset))\n",
        "plt.plot(trainPredictPlot)\n",
        "plt.plot(testPredictPlot)\n",
        "\n",
        "plt.show()\n"
      ],
      "execution_count": 13,
      "outputs": [
        {
          "output_type": "display_data",
          "data": {
            "image/png": "[encoded data removed]",
            "text/plain": [
              "<Figure size 1152x576 with 1 Axes>"
            ]
          },
          "metadata": {
            "tags": [],
            "needs_background": "light"
          }
        }
      ]
    },
    {
      "cell_type": "markdown",
      "metadata": {
        "id": "4IzVGgeyjlvl"
      },
      "source": [
        "#  Creating a Hybrid model for Numerical and textual Analysis\n"
      ]
    },
    {
      "cell_type": "code",
      "metadata": {
        "colab": {
          "base_uri": "https://localhost:8080/",
          "height": 436
        },
        "id": "IuGoHYcBBcq3",
        "outputId": "eb14fecf-40c9-4f18-811b-99f18fa92b51"
      },
      "source": [
        "#Text Analysis\n",
        "\n",
        "columns = ['Date','Category','News']\n",
        "news3 = pd.read_csv('/content/india-news-headlines.csv', engine='python', names = columns, error_bad_lines=False)\n",
        "\n",
        "news3"
      ],
      "execution_count": 14,
      "outputs": [
        {
          "output_type": "stream",
          "text": [
            "Skipping line 2348538: unexpected end of data\n"
          ],
          "name": "stderr"
        },
        {
          "output_type": "execute_result",
          "data": {
            "text/html": [
              "<div>\n",
              "<style scoped>\n",
              "    .dataframe tbody tr th:only-of-type {\n",
              "        vertical-align: middle;\n",
              "    }\n",
              "\n",
              "    .dataframe tbody tr th {\n",
              "        vertical-align: top;\n",
              "    }\n",
              "\n",
              "    .dataframe thead th {\n",
              "        text-align: right;\n",
              "    }\n",
              "</style>\n",
              "<table border=\"1\" class=\"dataframe\">\n",
              "  <thead>\n",
              "    <tr style=\"text-align: right;\">\n",
              "      <th></th>\n",
              "      <th>Date</th>\n",
              "      <th>Category</th>\n",
              "      <th>News</th>\n",
              "    </tr>\n",
              "  </thead>\n",
              "  <tbody>\n",
              "    <tr>\n",
              "      <th>0</th>\n",
              "      <td>publish_date</td>\n",
              "      <td>headline_category</td>\n",
              "      <td>headline_text</td>\n",
              "    </tr>\n",
              "    <tr>\n",
              "      <th>1</th>\n",
              "      <td>20010102</td>\n",
              "      <td>unknown</td>\n",
              "      <td>Status quo will not be disturbed at Ayodhya; s...</td>\n",
              "    </tr>\n",
              "    <tr>\n",
              "      <th>2</th>\n",
              "      <td>20010102</td>\n",
              "      <td>unknown</td>\n",
              "      <td>Fissures in Hurriyat over Pak visit</td>\n",
              "    </tr>\n",
              "    <tr>\n",
              "      <th>3</th>\n",
              "      <td>20010102</td>\n",
              "      <td>unknown</td>\n",
              "      <td>America's unwanted heading for India?</td>\n",
              "    </tr>\n",
              "    <tr>\n",
              "      <th>4</th>\n",
              "      <td>20010102</td>\n",
              "      <td>unknown</td>\n",
              "      <td>For bigwigs; it is destination Goa</td>\n",
              "    </tr>\n",
              "    <tr>\n",
              "      <th>...</th>\n",
              "      <td>...</td>\n",
              "      <td>...</td>\n",
              "      <td>...</td>\n",
              "    </tr>\n",
              "    <tr>\n",
              "      <th>2348532</th>\n",
              "      <td>20160318</td>\n",
              "      <td>city.mysuru</td>\n",
              "      <td>Water crisis tops Karnataka Development Progra...</td>\n",
              "    </tr>\n",
              "    <tr>\n",
              "      <th>2348533</th>\n",
              "      <td>20160318</td>\n",
              "      <td>city.jaipur</td>\n",
              "      <td>Five new villages are getting connected with r...</td>\n",
              "    </tr>\n",
              "    <tr>\n",
              "      <th>2348534</th>\n",
              "      <td>20160318</td>\n",
              "      <td>city.jaipur</td>\n",
              "      <td>Sister saves her drowning brother</td>\n",
              "    </tr>\n",
              "    <tr>\n",
              "      <th>2348535</th>\n",
              "      <td>20160318</td>\n",
              "      <td>city.ahmedabad</td>\n",
              "      <td>Gujarat asks e-tailers to charge difference in...</td>\n",
              "    </tr>\n",
              "    <tr>\n",
              "      <th>2348536</th>\n",
              "      <td>20160318</td>\n",
              "      <td>city.jaipur</td>\n",
              "      <td>Officials compromise Raj's interests in vital ...</td>\n",
              "    </tr>\n",
              "  </tbody>\n",
              "</table>\n",
              "<p>2348537 rows × 3 columns</p>\n",
              "</div>"
            ],
            "text/plain": [
              "                 Date  ...                                               News\n",
              "0        publish_date  ...                                      headline_text\n",
              "1            20010102  ...  Status quo will not be disturbed at Ayodhya; s...\n",
              "2            20010102  ...                Fissures in Hurriyat over Pak visit\n",
              "3            20010102  ...              America's unwanted heading for India?\n",
              "4            20010102  ...                 For bigwigs; it is destination Goa\n",
              "...               ...  ...                                                ...\n",
              "2348532      20160318  ...  Water crisis tops Karnataka Development Progra...\n",
              "2348533      20160318  ...  Five new villages are getting connected with r...\n",
              "2348534      20160318  ...                  Sister saves her drowning brother\n",
              "2348535      20160318  ...  Gujarat asks e-tailers to charge difference in...\n",
              "2348536      20160318  ...  Officials compromise Raj's interests in vital ...\n",
              "\n",
              "[2348537 rows x 3 columns]"
            ]
          },
          "metadata": {
            "tags": []
          },
          "execution_count": 14
        }
      ]
    },
    {
      "cell_type": "code",
      "metadata": {
        "colab": {
          "base_uri": "https://localhost:8080/"
        },
        "id": "GQRgrIkyBoPg",
        "outputId": "5bef8a5d-3a37-4732-c4b0-2c04b8551d3b"
      },
      "source": [
        "news3.drop(0, inplace=True)\n",
        "news3.drop('Category', axis = 1, inplace=True)\n",
        "news3.info()"
      ],
      "execution_count": 15,
      "outputs": [
        {
          "output_type": "stream",
          "text": [
            "<class 'pandas.core.frame.DataFrame'>\n",
            "Int64Index: 2348536 entries, 1 to 2348536\n",
            "Data columns (total 2 columns):\n",
            " #   Column  Dtype \n",
            "---  ------  ----- \n",
            " 0   Date    object\n",
            " 1   News    object\n",
            "dtypes: object(2)\n",
            "memory usage: 53.8+ MB\n"
          ],
          "name": "stdout"
        }
      ]
    },
    {
      "cell_type": "code",
      "metadata": {
        "colab": {
          "base_uri": "https://localhost:8080/",
          "height": 419
        },
        "id": "ZYWg-VrIDD-s",
        "outputId": "c80e74cb-6c2b-4bd9-817e-cd15381c9354"
      },
      "source": [
        "try:\n",
        "  news3['Date'] = pd.to_datetime(news2['Date'],format= '%Y %m %d')\n",
        "except:\n",
        "  pass\n",
        "news3"
      ],
      "execution_count": 16,
      "outputs": [
        {
          "output_type": "execute_result",
          "data": {
            "text/html": [
              "<div>\n",
              "<style scoped>\n",
              "    .dataframe tbody tr th:only-of-type {\n",
              "        vertical-align: middle;\n",
              "    }\n",
              "\n",
              "    .dataframe tbody tr th {\n",
              "        vertical-align: top;\n",
              "    }\n",
              "\n",
              "    .dataframe thead th {\n",
              "        text-align: right;\n",
              "    }\n",
              "</style>\n",
              "<table border=\"1\" class=\"dataframe\">\n",
              "  <thead>\n",
              "    <tr style=\"text-align: right;\">\n",
              "      <th></th>\n",
              "      <th>Date</th>\n",
              "      <th>News</th>\n",
              "    </tr>\n",
              "  </thead>\n",
              "  <tbody>\n",
              "    <tr>\n",
              "      <th>1</th>\n",
              "      <td>20010102</td>\n",
              "      <td>Status quo will not be disturbed at Ayodhya; s...</td>\n",
              "    </tr>\n",
              "    <tr>\n",
              "      <th>2</th>\n",
              "      <td>20010102</td>\n",
              "      <td>Fissures in Hurriyat over Pak visit</td>\n",
              "    </tr>\n",
              "    <tr>\n",
              "      <th>3</th>\n",
              "      <td>20010102</td>\n",
              "      <td>America's unwanted heading for India?</td>\n",
              "    </tr>\n",
              "    <tr>\n",
              "      <th>4</th>\n",
              "      <td>20010102</td>\n",
              "      <td>For bigwigs; it is destination Goa</td>\n",
              "    </tr>\n",
              "    <tr>\n",
              "      <th>5</th>\n",
              "      <td>20010102</td>\n",
              "      <td>Extra buses to clear tourist traffic</td>\n",
              "    </tr>\n",
              "    <tr>\n",
              "      <th>...</th>\n",
              "      <td>...</td>\n",
              "      <td>...</td>\n",
              "    </tr>\n",
              "    <tr>\n",
              "      <th>2348532</th>\n",
              "      <td>20160318</td>\n",
              "      <td>Water crisis tops Karnataka Development Progra...</td>\n",
              "    </tr>\n",
              "    <tr>\n",
              "      <th>2348533</th>\n",
              "      <td>20160318</td>\n",
              "      <td>Five new villages are getting connected with r...</td>\n",
              "    </tr>\n",
              "    <tr>\n",
              "      <th>2348534</th>\n",
              "      <td>20160318</td>\n",
              "      <td>Sister saves her drowning brother</td>\n",
              "    </tr>\n",
              "    <tr>\n",
              "      <th>2348535</th>\n",
              "      <td>20160318</td>\n",
              "      <td>Gujarat asks e-tailers to charge difference in...</td>\n",
              "    </tr>\n",
              "    <tr>\n",
              "      <th>2348536</th>\n",
              "      <td>20160318</td>\n",
              "      <td>Officials compromise Raj's interests in vital ...</td>\n",
              "    </tr>\n",
              "  </tbody>\n",
              "</table>\n",
              "<p>2348536 rows × 2 columns</p>\n",
              "</div>"
            ],
            "text/plain": [
              "             Date                                               News\n",
              "1        20010102  Status quo will not be disturbed at Ayodhya; s...\n",
              "2        20010102                Fissures in Hurriyat over Pak visit\n",
              "3        20010102              America's unwanted heading for India?\n",
              "4        20010102                 For bigwigs; it is destination Goa\n",
              "5        20010102               Extra buses to clear tourist traffic\n",
              "...           ...                                                ...\n",
              "2348532  20160318  Water crisis tops Karnataka Development Progra...\n",
              "2348533  20160318  Five new villages are getting connected with r...\n",
              "2348534  20160318                  Sister saves her drowning brother\n",
              "2348535  20160318  Gujarat asks e-tailers to charge difference in...\n",
              "2348536  20160318  Officials compromise Raj's interests in vital ...\n",
              "\n",
              "[2348536 rows x 2 columns]"
            ]
          },
          "metadata": {
            "tags": []
          },
          "execution_count": 16
        }
      ]
    },
    {
      "cell_type": "code",
      "metadata": {
        "colab": {
          "base_uri": "https://localhost:8080/",
          "height": 419
        },
        "id": "iFV7CQc6lpUw",
        "outputId": "368dcf97-b814-4b87-db4f-46f961f3456b"
      },
      "source": [
        "#Grouping the headlines for each day\n",
        "news3['News'] = news3.groupby(['Date']).transform(lambda x : ' '.join(x)) \n",
        "news3 = news3.drop_duplicates() \n",
        "news3.reset_index(inplace = True, drop = True)\n",
        "news3"
      ],
      "execution_count": 17,
      "outputs": [
        {
          "output_type": "execute_result",
          "data": {
            "text/html": [
              "<div>\n",
              "<style scoped>\n",
              "    .dataframe tbody tr th:only-of-type {\n",
              "        vertical-align: middle;\n",
              "    }\n",
              "\n",
              "    .dataframe tbody tr th {\n",
              "        vertical-align: top;\n",
              "    }\n",
              "\n",
              "    .dataframe thead th {\n",
              "        text-align: right;\n",
              "    }\n",
              "</style>\n",
              "<table border=\"1\" class=\"dataframe\">\n",
              "  <thead>\n",
              "    <tr style=\"text-align: right;\">\n",
              "      <th></th>\n",
              "      <th>Date</th>\n",
              "      <th>News</th>\n",
              "    </tr>\n",
              "  </thead>\n",
              "  <tbody>\n",
              "    <tr>\n",
              "      <th>0</th>\n",
              "      <td>20010102</td>\n",
              "      <td>Status quo will not be disturbed at Ayodhya; s...</td>\n",
              "    </tr>\n",
              "    <tr>\n",
              "      <th>1</th>\n",
              "      <td>20010103</td>\n",
              "      <td>Powerless north India gropes in the dark Think...</td>\n",
              "    </tr>\n",
              "    <tr>\n",
              "      <th>2</th>\n",
              "      <td>20010104</td>\n",
              "      <td>The string that pulled Stephen Hawking to Indi...</td>\n",
              "    </tr>\n",
              "    <tr>\n",
              "      <th>3</th>\n",
              "      <td>20010105</td>\n",
              "      <td>Light combat craft takes India into club class...</td>\n",
              "    </tr>\n",
              "    <tr>\n",
              "      <th>4</th>\n",
              "      <td>20010106</td>\n",
              "      <td>Light combat craft takes India into club class...</td>\n",
              "    </tr>\n",
              "    <tr>\n",
              "      <th>...</th>\n",
              "      <td>...</td>\n",
              "      <td>...</td>\n",
              "    </tr>\n",
              "    <tr>\n",
              "      <th>5508</th>\n",
              "      <td>20160314</td>\n",
              "      <td>How to ease body aches and pain The right way ...</td>\n",
              "    </tr>\n",
              "    <tr>\n",
              "      <th>5509</th>\n",
              "      <td>20160315</td>\n",
              "      <td>Hollywood stars and their sexual preferences 5...</td>\n",
              "    </tr>\n",
              "    <tr>\n",
              "      <th>5510</th>\n",
              "      <td>20160316</td>\n",
              "      <td>What inspires Ranveer Singh's quirky fashion s...</td>\n",
              "    </tr>\n",
              "    <tr>\n",
              "      <th>5511</th>\n",
              "      <td>20160317</td>\n",
              "      <td>Celebrities who believe in aliens How could on...</td>\n",
              "    </tr>\n",
              "    <tr>\n",
              "      <th>5512</th>\n",
              "      <td>20160318</td>\n",
              "      <td>Apps that all pet parents need to have Take a ...</td>\n",
              "    </tr>\n",
              "  </tbody>\n",
              "</table>\n",
              "<p>5513 rows × 2 columns</p>\n",
              "</div>"
            ],
            "text/plain": [
              "          Date                                               News\n",
              "0     20010102  Status quo will not be disturbed at Ayodhya; s...\n",
              "1     20010103  Powerless north India gropes in the dark Think...\n",
              "2     20010104  The string that pulled Stephen Hawking to Indi...\n",
              "3     20010105  Light combat craft takes India into club class...\n",
              "4     20010106  Light combat craft takes India into club class...\n",
              "...        ...                                                ...\n",
              "5508  20160314  How to ease body aches and pain The right way ...\n",
              "5509  20160315  Hollywood stars and their sexual preferences 5...\n",
              "5510  20160316  What inspires Ranveer Singh's quirky fashion s...\n",
              "5511  20160317  Celebrities who believe in aliens How could on...\n",
              "5512  20160318  Apps that all pet parents need to have Take a ...\n",
              "\n",
              "[5513 rows x 2 columns]"
            ]
          },
          "metadata": {
            "tags": []
          },
          "execution_count": 17
        }
      ]
    },
    {
      "cell_type": "code",
      "metadata": {
        "colab": {
          "base_uri": "https://localhost:8080/"
        },
        "id": "WoEqnrqMEl85",
        "outputId": "96e626b0-54c3-4876-ecfb-2a18c3320b99"
      },
      "source": [
        "news3['News']"
      ],
      "execution_count": 19,
      "outputs": [
        {
          "output_type": "execute_result",
          "data": {
            "text/plain": [
              "0       Status quo will not be disturbed at Ayodhya; s...\n",
              "1       Powerless north India gropes in the dark Think...\n",
              "2       The string that pulled Stephen Hawking to Indi...\n",
              "3       Light combat craft takes India into club class...\n",
              "4       Light combat craft takes India into club class...\n",
              "                              ...                        \n",
              "5508    How to ease body aches and pain The right way ...\n",
              "5509    Hollywood stars and their sexual preferences 5...\n",
              "5510    What inspires Ranveer Singh's quirky fashion s...\n",
              "5511    Celebrities who believe in aliens How could on...\n",
              "5512    Apps that all pet parents need to have Take a ...\n",
              "Name: News, Length: 5513, dtype: object"
            ]
          },
          "metadata": {
            "tags": []
          },
          "execution_count": 19
        }
      ]
    },
    {
      "cell_type": "markdown",
      "metadata": {
        "id": "72f6JARFndeo"
      },
      "source": [
        "#Adding subjectivity and polarity Scores\n"
      ]
    },
    {
      "cell_type": "code",
      "metadata": {
        "id": "Z-C_dzwREp1e"
      },
      "source": [
        "#Functions to get the subjectivity and polarity\n",
        "def getSubjectivity(text):\n",
        "  return TextBlob(text).sentiment.subjectivity\n",
        "\n",
        "def getPolarity(text):\n",
        "  return  TextBlob(text).sentiment.polarity"
      ],
      "execution_count": 21,
      "outputs": []
    },
    {
      "cell_type": "markdown",
      "metadata": {
        "id": "CABWecgSF5gG"
      },
      "source": [
        "POLARITY - POSITIVE/NEGATIVE\n",
        "SUBJECTIVITY - FACT/OPINION"
      ]
    },
    {
      "cell_type": "code",
      "metadata": {
        "colab": {
          "base_uri": "https://localhost:8080/",
          "height": 643
        },
        "id": "wZSq5MVDE4aW",
        "outputId": "560a2ea1-0893-439c-c028-8e9d4ea3b223"
      },
      "source": [
        "#Adding subjectivity and polarity columns\n",
        "news3['Subjectivity'] = news3['News'].apply(getSubjectivity)\n",
        "news3['Polarity'] = news3['News'].apply(getPolarity)\n",
        "news3"
      ],
      "execution_count": 22,
      "outputs": [
        {
          "output_type": "stream",
          "text": [
            "/usr/local/lib/python3.7/dist-packages/ipykernel_launcher.py:2: SettingWithCopyWarning: \n",
            "A value is trying to be set on a copy of a slice from a DataFrame.\n",
            "Try using .loc[row_indexer,col_indexer] = value instead\n",
            "\n",
            "See the caveats in the documentation: https://pandas.pydata.org/pandas-docs/stable/user_guide/indexing.html#returning-a-view-versus-a-copy\n",
            "  \n",
            "/usr/local/lib/python3.7/dist-packages/ipykernel_launcher.py:3: SettingWithCopyWarning: \n",
            "A value is trying to be set on a copy of a slice from a DataFrame.\n",
            "Try using .loc[row_indexer,col_indexer] = value instead\n",
            "\n",
            "See the caveats in the documentation: https://pandas.pydata.org/pandas-docs/stable/user_guide/indexing.html#returning-a-view-versus-a-copy\n",
            "  This is separate from the ipykernel package so we can avoid doing imports until\n"
          ],
          "name": "stderr"
        },
        {
          "output_type": "execute_result",
          "data": {
            "text/html": [
              "<div>\n",
              "<style scoped>\n",
              "    .dataframe tbody tr th:only-of-type {\n",
              "        vertical-align: middle;\n",
              "    }\n",
              "\n",
              "    .dataframe tbody tr th {\n",
              "        vertical-align: top;\n",
              "    }\n",
              "\n",
              "    .dataframe thead th {\n",
              "        text-align: right;\n",
              "    }\n",
              "</style>\n",
              "<table border=\"1\" class=\"dataframe\">\n",
              "  <thead>\n",
              "    <tr style=\"text-align: right;\">\n",
              "      <th></th>\n",
              "      <th>Date</th>\n",
              "      <th>News</th>\n",
              "      <th>Subjectivity</th>\n",
              "      <th>Polarity</th>\n",
              "    </tr>\n",
              "  </thead>\n",
              "  <tbody>\n",
              "    <tr>\n",
              "      <th>0</th>\n",
              "      <td>20010102</td>\n",
              "      <td>Status quo will not be disturbed at Ayodhya; s...</td>\n",
              "      <td>0.282333</td>\n",
              "      <td>0.151333</td>\n",
              "    </tr>\n",
              "    <tr>\n",
              "      <th>1</th>\n",
              "      <td>20010103</td>\n",
              "      <td>Powerless north India gropes in the dark Think...</td>\n",
              "      <td>0.407692</td>\n",
              "      <td>0.088462</td>\n",
              "    </tr>\n",
              "    <tr>\n",
              "      <th>2</th>\n",
              "      <td>20010104</td>\n",
              "      <td>The string that pulled Stephen Hawking to Indi...</td>\n",
              "      <td>0.446847</td>\n",
              "      <td>0.087961</td>\n",
              "    </tr>\n",
              "    <tr>\n",
              "      <th>3</th>\n",
              "      <td>20010105</td>\n",
              "      <td>Light combat craft takes India into club class...</td>\n",
              "      <td>0.476612</td>\n",
              "      <td>0.262024</td>\n",
              "    </tr>\n",
              "    <tr>\n",
              "      <th>4</th>\n",
              "      <td>20010106</td>\n",
              "      <td>Light combat craft takes India into club class...</td>\n",
              "      <td>0.439394</td>\n",
              "      <td>0.248485</td>\n",
              "    </tr>\n",
              "    <tr>\n",
              "      <th>...</th>\n",
              "      <td>...</td>\n",
              "      <td>...</td>\n",
              "      <td>...</td>\n",
              "      <td>...</td>\n",
              "    </tr>\n",
              "    <tr>\n",
              "      <th>5508</th>\n",
              "      <td>20160314</td>\n",
              "      <td>How to ease body aches and pain The right way ...</td>\n",
              "      <td>0.423928</td>\n",
              "      <td>0.077665</td>\n",
              "    </tr>\n",
              "    <tr>\n",
              "      <th>5509</th>\n",
              "      <td>20160315</td>\n",
              "      <td>Hollywood stars and their sexual preferences 5...</td>\n",
              "      <td>0.404816</td>\n",
              "      <td>0.051899</td>\n",
              "    </tr>\n",
              "    <tr>\n",
              "      <th>5510</th>\n",
              "      <td>20160316</td>\n",
              "      <td>What inspires Ranveer Singh's quirky fashion s...</td>\n",
              "      <td>0.414129</td>\n",
              "      <td>0.064769</td>\n",
              "    </tr>\n",
              "    <tr>\n",
              "      <th>5511</th>\n",
              "      <td>20160317</td>\n",
              "      <td>Celebrities who believe in aliens How could on...</td>\n",
              "      <td>0.402779</td>\n",
              "      <td>0.043667</td>\n",
              "    </tr>\n",
              "    <tr>\n",
              "      <th>5512</th>\n",
              "      <td>20160318</td>\n",
              "      <td>Apps that all pet parents need to have Take a ...</td>\n",
              "      <td>0.376500</td>\n",
              "      <td>0.064094</td>\n",
              "    </tr>\n",
              "  </tbody>\n",
              "</table>\n",
              "<p>5513 rows × 4 columns</p>\n",
              "</div>"
            ],
            "text/plain": [
              "          Date  ...  Polarity\n",
              "0     20010102  ...  0.151333\n",
              "1     20010103  ...  0.088462\n",
              "2     20010104  ...  0.087961\n",
              "3     20010105  ...  0.262024\n",
              "4     20010106  ...  0.248485\n",
              "...        ...  ...       ...\n",
              "5508  20160314  ...  0.077665\n",
              "5509  20160315  ...  0.051899\n",
              "5510  20160316  ...  0.064769\n",
              "5511  20160317  ...  0.043667\n",
              "5512  20160318  ...  0.064094\n",
              "\n",
              "[5513 rows x 4 columns]"
            ]
          },
          "metadata": {
            "tags": []
          },
          "execution_count": 22
        }
      ]
    },
    {
      "cell_type": "markdown",
      "metadata": {
        "id": "AoU3ayowppxV"
      },
      "source": [
        "# Visualizing the polarity and Subjectivity scores"
      ]
    },
    {
      "cell_type": "code",
      "metadata": {
        "colab": {
          "base_uri": "https://localhost:8080/",
          "height": 391
        },
        "id": "wZX3VNrKFva7",
        "outputId": "7be2ef2b-cfc3-43da-8a73-9369358b61ed"
      },
      "source": [
        "plt.figure(figsize = (10,6))\n",
        "news3['Polarity'].hist(color = 'red')"
      ],
      "execution_count": 24,
      "outputs": [
        {
          "output_type": "execute_result",
          "data": {
            "text/plain": [
              "<matplotlib.axes._subplots.AxesSubplot at 0x7f6c8870ed50>"
            ]
          },
          "metadata": {
            "tags": []
          },
          "execution_count": 24
        },
        {
          "output_type": "display_data",
          "data": {
            "image/png": "[encoded data removed]",
            "text/plain": [
              "<Figure size 720x432 with 1 Axes>"
            ]
          },
          "metadata": {
            "tags": [],
            "needs_background": "light"
          }
        }
      ]
    },
    {
      "cell_type": "code",
      "metadata": {
        "colab": {
          "base_uri": "https://localhost:8080/",
          "height": 391
        },
        "id": "qBSLTEErGNMq",
        "outputId": "dff9de87-bd7b-4384-965f-8d457b1c7bf4"
      },
      "source": [
        "plt.figure(figsize = (10,6))\n",
        "news3['Subjectivity'].hist(color = 'green')\n"
      ],
      "execution_count": 25,
      "outputs": [
        {
          "output_type": "execute_result",
          "data": {
            "text/plain": [
              "<matplotlib.axes._subplots.AxesSubplot at 0x7f6c88378550>"
            ]
          },
          "metadata": {
            "tags": []
          },
          "execution_count": 25
        },
        {
          "output_type": "display_data",
          "data": {
            "image/png": "[encoded data removed]",
            "text/plain": [
              "<Figure size 720x432 with 1 Axes>"
            ]
          },
          "metadata": {
            "tags": [],
            "needs_background": "light"
          }
        }
      ]
    },
    {
      "cell_type": "markdown",
      "metadata": {
        "id": "8fnfGv30pvoa"
      },
      "source": [
        "# Performing Sentiment Analysis over the news Headlines"
      ]
    },
    {
      "cell_type": "code",
      "metadata": {
        "colab": {
          "base_uri": "https://localhost:8080/",
          "height": 1000
        },
        "id": "C_UOENOeGW_w",
        "outputId": "dedfd78e-e55e-48f6-a5ba-05d59ef86777"
      },
      "source": [
        "#Adding sentiment score to news\n",
        "sia = SentimentIntensityAnalyzer()\n",
        "\n",
        "news3['Compound'] = [sia.polarity_scores(v)['compound'] for v in news3['News']]\n",
        "news3['Negative'] = [sia.polarity_scores(v)['neg'] for v in news3['News']]\n",
        "news3['Neutral'] = [sia.polarity_scores(v)['neu'] for v in news3['News']]\n",
        "news3['Positive'] = [sia.polarity_scores(v)['pos'] for v in news3['News']]\n",
        "news3"
      ],
      "execution_count": 27,
      "outputs": [
        {
          "output_type": "stream",
          "text": [
            "/usr/local/lib/python3.7/dist-packages/ipykernel_launcher.py:4: SettingWithCopyWarning: \n",
            "A value is trying to be set on a copy of a slice from a DataFrame.\n",
            "Try using .loc[row_indexer,col_indexer] = value instead\n",
            "\n",
            "See the caveats in the documentation: https://pandas.pydata.org/pandas-docs/stable/user_guide/indexing.html#returning-a-view-versus-a-copy\n",
            "  after removing the cwd from sys.path.\n",
            "/usr/local/lib/python3.7/dist-packages/ipykernel_launcher.py:5: SettingWithCopyWarning: \n",
            "A value is trying to be set on a copy of a slice from a DataFrame.\n",
            "Try using .loc[row_indexer,col_indexer] = value instead\n",
            "\n",
            "See the caveats in the documentation: https://pandas.pydata.org/pandas-docs/stable/user_guide/indexing.html#returning-a-view-versus-a-copy\n",
            "  \"\"\"\n",
            "/usr/local/lib/python3.7/dist-packages/ipykernel_launcher.py:6: SettingWithCopyWarning: \n",
            "A value is trying to be set on a copy of a slice from a DataFrame.\n",
            "Try using .loc[row_indexer,col_indexer] = value instead\n",
            "\n",
            "See the caveats in the documentation: https://pandas.pydata.org/pandas-docs/stable/user_guide/indexing.html#returning-a-view-versus-a-copy\n",
            "  \n",
            "/usr/local/lib/python3.7/dist-packages/ipykernel_launcher.py:7: SettingWithCopyWarning: \n",
            "A value is trying to be set on a copy of a slice from a DataFrame.\n",
            "Try using .loc[row_indexer,col_indexer] = value instead\n",
            "\n",
            "See the caveats in the documentation: https://pandas.pydata.org/pandas-docs/stable/user_guide/indexing.html#returning-a-view-versus-a-copy\n",
            "  import sys\n"
          ],
          "name": "stderr"
        },
        {
          "output_type": "execute_result",
          "data": {
            "text/html": [
              "<div>\n",
              "<style scoped>\n",
              "    .dataframe tbody tr th:only-of-type {\n",
              "        vertical-align: middle;\n",
              "    }\n",
              "\n",
              "    .dataframe tbody tr th {\n",
              "        vertical-align: top;\n",
              "    }\n",
              "\n",
              "    .dataframe thead th {\n",
              "        text-align: right;\n",
              "    }\n",
              "</style>\n",
              "<table border=\"1\" class=\"dataframe\">\n",
              "  <thead>\n",
              "    <tr style=\"text-align: right;\">\n",
              "      <th></th>\n",
              "      <th>Date</th>\n",
              "      <th>News</th>\n",
              "      <th>Subjectivity</th>\n",
              "      <th>Polarity</th>\n",
              "      <th>Compound</th>\n",
              "      <th>Negative</th>\n",
              "      <th>Neutral</th>\n",
              "      <th>Positive</th>\n",
              "    </tr>\n",
              "  </thead>\n",
              "  <tbody>\n",
              "    <tr>\n",
              "      <th>0</th>\n",
              "      <td>20010102</td>\n",
              "      <td>Status quo will not be disturbed at Ayodhya; s...</td>\n",
              "      <td>0.282333</td>\n",
              "      <td>0.151333</td>\n",
              "      <td>-0.9811</td>\n",
              "      <td>0.122</td>\n",
              "      <td>0.807</td>\n",
              "      <td>0.071</td>\n",
              "    </tr>\n",
              "    <tr>\n",
              "      <th>1</th>\n",
              "      <td>20010103</td>\n",
              "      <td>Powerless north India gropes in the dark Think...</td>\n",
              "      <td>0.407692</td>\n",
              "      <td>0.088462</td>\n",
              "      <td>-0.2640</td>\n",
              "      <td>0.122</td>\n",
              "      <td>0.766</td>\n",
              "      <td>0.111</td>\n",
              "    </tr>\n",
              "    <tr>\n",
              "      <th>2</th>\n",
              "      <td>20010104</td>\n",
              "      <td>The string that pulled Stephen Hawking to Indi...</td>\n",
              "      <td>0.446847</td>\n",
              "      <td>0.087961</td>\n",
              "      <td>0.8738</td>\n",
              "      <td>0.100</td>\n",
              "      <td>0.797</td>\n",
              "      <td>0.103</td>\n",
              "    </tr>\n",
              "    <tr>\n",
              "      <th>3</th>\n",
              "      <td>20010105</td>\n",
              "      <td>Light combat craft takes India into club class...</td>\n",
              "      <td>0.476612</td>\n",
              "      <td>0.262024</td>\n",
              "      <td>0.9633</td>\n",
              "      <td>0.124</td>\n",
              "      <td>0.722</td>\n",
              "      <td>0.154</td>\n",
              "    </tr>\n",
              "    <tr>\n",
              "      <th>4</th>\n",
              "      <td>20010106</td>\n",
              "      <td>Light combat craft takes India into club class...</td>\n",
              "      <td>0.439394</td>\n",
              "      <td>0.248485</td>\n",
              "      <td>-0.4215</td>\n",
              "      <td>0.152</td>\n",
              "      <td>0.704</td>\n",
              "      <td>0.143</td>\n",
              "    </tr>\n",
              "    <tr>\n",
              "      <th>...</th>\n",
              "      <td>...</td>\n",
              "      <td>...</td>\n",
              "      <td>...</td>\n",
              "      <td>...</td>\n",
              "      <td>...</td>\n",
              "      <td>...</td>\n",
              "      <td>...</td>\n",
              "      <td>...</td>\n",
              "    </tr>\n",
              "    <tr>\n",
              "      <th>5508</th>\n",
              "      <td>20160314</td>\n",
              "      <td>How to ease body aches and pain The right way ...</td>\n",
              "      <td>0.423928</td>\n",
              "      <td>0.077665</td>\n",
              "      <td>-0.9997</td>\n",
              "      <td>0.148</td>\n",
              "      <td>0.730</td>\n",
              "      <td>0.121</td>\n",
              "    </tr>\n",
              "    <tr>\n",
              "      <th>5509</th>\n",
              "      <td>20160315</td>\n",
              "      <td>Hollywood stars and their sexual preferences 5...</td>\n",
              "      <td>0.404816</td>\n",
              "      <td>0.051899</td>\n",
              "      <td>-0.9999</td>\n",
              "      <td>0.148</td>\n",
              "      <td>0.754</td>\n",
              "      <td>0.098</td>\n",
              "    </tr>\n",
              "    <tr>\n",
              "      <th>5510</th>\n",
              "      <td>20160316</td>\n",
              "      <td>What inspires Ranveer Singh's quirky fashion s...</td>\n",
              "      <td>0.414129</td>\n",
              "      <td>0.064769</td>\n",
              "      <td>-0.9998</td>\n",
              "      <td>0.143</td>\n",
              "      <td>0.752</td>\n",
              "      <td>0.106</td>\n",
              "    </tr>\n",
              "    <tr>\n",
              "      <th>5511</th>\n",
              "      <td>20160317</td>\n",
              "      <td>Celebrities who believe in aliens How could on...</td>\n",
              "      <td>0.402779</td>\n",
              "      <td>0.043667</td>\n",
              "      <td>-0.9998</td>\n",
              "      <td>0.120</td>\n",
              "      <td>0.803</td>\n",
              "      <td>0.077</td>\n",
              "    </tr>\n",
              "    <tr>\n",
              "      <th>5512</th>\n",
              "      <td>20160318</td>\n",
              "      <td>Apps that all pet parents need to have Take a ...</td>\n",
              "      <td>0.376500</td>\n",
              "      <td>0.064094</td>\n",
              "      <td>-0.9999</td>\n",
              "      <td>0.175</td>\n",
              "      <td>0.742</td>\n",
              "      <td>0.083</td>\n",
              "    </tr>\n",
              "  </tbody>\n",
              "</table>\n",
              "<p>5513 rows × 8 columns</p>\n",
              "</div>"
            ],
            "text/plain": [
              "          Date  ... Positive\n",
              "0     20010102  ...    0.071\n",
              "1     20010103  ...    0.111\n",
              "2     20010104  ...    0.103\n",
              "3     20010105  ...    0.154\n",
              "4     20010106  ...    0.143\n",
              "...        ...  ...      ...\n",
              "5508  20160314  ...    0.121\n",
              "5509  20160315  ...    0.098\n",
              "5510  20160316  ...    0.106\n",
              "5511  20160317  ...    0.077\n",
              "5512  20160318  ...    0.083\n",
              "\n",
              "[5513 rows x 8 columns]"
            ]
          },
          "metadata": {
            "tags": []
          },
          "execution_count": 27
        }
      ]
    },
    {
      "cell_type": "markdown",
      "metadata": {
        "id": "k52nvNRf0woE"
      },
      "source": [
        "# Merging the numerical and textual data"
      ]
    },
    {
      "cell_type": "code",
      "metadata": {
        "id": "HwLQWeDAG_gq",
        "colab": {
          "base_uri": "https://localhost:8080/",
          "height": 589
        },
        "outputId": "eb971baf-eeec-4ac7-eae9-0a2ab906ab82"
      },
      "source": [
        "merge = news3\n",
        "merge"
      ],
      "execution_count": 28,
      "outputs": [
        {
          "output_type": "execute_result",
          "data": {
            "text/html": [
              "<div>\n",
              "<style scoped>\n",
              "    .dataframe tbody tr th:only-of-type {\n",
              "        vertical-align: middle;\n",
              "    }\n",
              "\n",
              "    .dataframe tbody tr th {\n",
              "        vertical-align: top;\n",
              "    }\n",
              "\n",
              "    .dataframe thead th {\n",
              "        text-align: right;\n",
              "    }\n",
              "</style>\n",
              "<table border=\"1\" class=\"dataframe\">\n",
              "  <thead>\n",
              "    <tr style=\"text-align: right;\">\n",
              "      <th></th>\n",
              "      <th>Date</th>\n",
              "      <th>News</th>\n",
              "      <th>Subjectivity</th>\n",
              "      <th>Polarity</th>\n",
              "      <th>Compound</th>\n",
              "      <th>Negative</th>\n",
              "      <th>Neutral</th>\n",
              "      <th>Positive</th>\n",
              "    </tr>\n",
              "  </thead>\n",
              "  <tbody>\n",
              "    <tr>\n",
              "      <th>0</th>\n",
              "      <td>20010102</td>\n",
              "      <td>Status quo will not be disturbed at Ayodhya; s...</td>\n",
              "      <td>0.282333</td>\n",
              "      <td>0.151333</td>\n",
              "      <td>-0.9811</td>\n",
              "      <td>0.122</td>\n",
              "      <td>0.807</td>\n",
              "      <td>0.071</td>\n",
              "    </tr>\n",
              "    <tr>\n",
              "      <th>1</th>\n",
              "      <td>20010103</td>\n",
              "      <td>Powerless north India gropes in the dark Think...</td>\n",
              "      <td>0.407692</td>\n",
              "      <td>0.088462</td>\n",
              "      <td>-0.2640</td>\n",
              "      <td>0.122</td>\n",
              "      <td>0.766</td>\n",
              "      <td>0.111</td>\n",
              "    </tr>\n",
              "    <tr>\n",
              "      <th>2</th>\n",
              "      <td>20010104</td>\n",
              "      <td>The string that pulled Stephen Hawking to Indi...</td>\n",
              "      <td>0.446847</td>\n",
              "      <td>0.087961</td>\n",
              "      <td>0.8738</td>\n",
              "      <td>0.100</td>\n",
              "      <td>0.797</td>\n",
              "      <td>0.103</td>\n",
              "    </tr>\n",
              "    <tr>\n",
              "      <th>3</th>\n",
              "      <td>20010105</td>\n",
              "      <td>Light combat craft takes India into club class...</td>\n",
              "      <td>0.476612</td>\n",
              "      <td>0.262024</td>\n",
              "      <td>0.9633</td>\n",
              "      <td>0.124</td>\n",
              "      <td>0.722</td>\n",
              "      <td>0.154</td>\n",
              "    </tr>\n",
              "    <tr>\n",
              "      <th>4</th>\n",
              "      <td>20010106</td>\n",
              "      <td>Light combat craft takes India into club class...</td>\n",
              "      <td>0.439394</td>\n",
              "      <td>0.248485</td>\n",
              "      <td>-0.4215</td>\n",
              "      <td>0.152</td>\n",
              "      <td>0.704</td>\n",
              "      <td>0.143</td>\n",
              "    </tr>\n",
              "    <tr>\n",
              "      <th>...</th>\n",
              "      <td>...</td>\n",
              "      <td>...</td>\n",
              "      <td>...</td>\n",
              "      <td>...</td>\n",
              "      <td>...</td>\n",
              "      <td>...</td>\n",
              "      <td>...</td>\n",
              "      <td>...</td>\n",
              "    </tr>\n",
              "    <tr>\n",
              "      <th>5508</th>\n",
              "      <td>20160314</td>\n",
              "      <td>How to ease body aches and pain The right way ...</td>\n",
              "      <td>0.423928</td>\n",
              "      <td>0.077665</td>\n",
              "      <td>-0.9997</td>\n",
              "      <td>0.148</td>\n",
              "      <td>0.730</td>\n",
              "      <td>0.121</td>\n",
              "    </tr>\n",
              "    <tr>\n",
              "      <th>5509</th>\n",
              "      <td>20160315</td>\n",
              "      <td>Hollywood stars and their sexual preferences 5...</td>\n",
              "      <td>0.404816</td>\n",
              "      <td>0.051899</td>\n",
              "      <td>-0.9999</td>\n",
              "      <td>0.148</td>\n",
              "      <td>0.754</td>\n",
              "      <td>0.098</td>\n",
              "    </tr>\n",
              "    <tr>\n",
              "      <th>5510</th>\n",
              "      <td>20160316</td>\n",
              "      <td>What inspires Ranveer Singh's quirky fashion s...</td>\n",
              "      <td>0.414129</td>\n",
              "      <td>0.064769</td>\n",
              "      <td>-0.9998</td>\n",
              "      <td>0.143</td>\n",
              "      <td>0.752</td>\n",
              "      <td>0.106</td>\n",
              "    </tr>\n",
              "    <tr>\n",
              "      <th>5511</th>\n",
              "      <td>20160317</td>\n",
              "      <td>Celebrities who believe in aliens How could on...</td>\n",
              "      <td>0.402779</td>\n",
              "      <td>0.043667</td>\n",
              "      <td>-0.9998</td>\n",
              "      <td>0.120</td>\n",
              "      <td>0.803</td>\n",
              "      <td>0.077</td>\n",
              "    </tr>\n",
              "    <tr>\n",
              "      <th>5512</th>\n",
              "      <td>20160318</td>\n",
              "      <td>Apps that all pet parents need to have Take a ...</td>\n",
              "      <td>0.376500</td>\n",
              "      <td>0.064094</td>\n",
              "      <td>-0.9999</td>\n",
              "      <td>0.175</td>\n",
              "      <td>0.742</td>\n",
              "      <td>0.083</td>\n",
              "    </tr>\n",
              "  </tbody>\n",
              "</table>\n",
              "<p>5513 rows × 8 columns</p>\n",
              "</div>"
            ],
            "text/plain": [
              "          Date  ... Positive\n",
              "0     20010102  ...    0.071\n",
              "1     20010103  ...    0.111\n",
              "2     20010104  ...    0.103\n",
              "3     20010105  ...    0.154\n",
              "4     20010106  ...    0.143\n",
              "...        ...  ...      ...\n",
              "5508  20160314  ...    0.121\n",
              "5509  20160315  ...    0.098\n",
              "5510  20160316  ...    0.106\n",
              "5511  20160317  ...    0.077\n",
              "5512  20160318  ...    0.083\n",
              "\n",
              "[5513 rows x 8 columns]"
            ]
          },
          "metadata": {
            "tags": []
          },
          "execution_count": 28
        }
      ]
    },
    {
      "cell_type": "code",
      "metadata": {
        "id": "yr6sEI34HCv-",
        "colab": {
          "base_uri": "https://localhost:8080/",
          "height": 419
        },
        "outputId": "210b6c81-1bbd-4f55-b0a0-34e9cf7edaa3"
      },
      "source": [
        "dff = merge[['Subjectivity', 'Polarity', 'Compound', 'Negative', 'Neutral' ,'Positive']]\n",
        "dff"
      ],
      "execution_count": 29,
      "outputs": [
        {
          "output_type": "execute_result",
          "data": {
            "text/html": [
              "<div>\n",
              "<style scoped>\n",
              "    .dataframe tbody tr th:only-of-type {\n",
              "        vertical-align: middle;\n",
              "    }\n",
              "\n",
              "    .dataframe tbody tr th {\n",
              "        vertical-align: top;\n",
              "    }\n",
              "\n",
              "    .dataframe thead th {\n",
              "        text-align: right;\n",
              "    }\n",
              "</style>\n",
              "<table border=\"1\" class=\"dataframe\">\n",
              "  <thead>\n",
              "    <tr style=\"text-align: right;\">\n",
              "      <th></th>\n",
              "      <th>Subjectivity</th>\n",
              "      <th>Polarity</th>\n",
              "      <th>Compound</th>\n",
              "      <th>Negative</th>\n",
              "      <th>Neutral</th>\n",
              "      <th>Positive</th>\n",
              "    </tr>\n",
              "  </thead>\n",
              "  <tbody>\n",
              "    <tr>\n",
              "      <th>0</th>\n",
              "      <td>0.282333</td>\n",
              "      <td>0.151333</td>\n",
              "      <td>-0.9811</td>\n",
              "      <td>0.122</td>\n",
              "      <td>0.807</td>\n",
              "      <td>0.071</td>\n",
              "    </tr>\n",
              "    <tr>\n",
              "      <th>1</th>\n",
              "      <td>0.407692</td>\n",
              "      <td>0.088462</td>\n",
              "      <td>-0.2640</td>\n",
              "      <td>0.122</td>\n",
              "      <td>0.766</td>\n",
              "      <td>0.111</td>\n",
              "    </tr>\n",
              "    <tr>\n",
              "      <th>2</th>\n",
              "      <td>0.446847</td>\n",
              "      <td>0.087961</td>\n",
              "      <td>0.8738</td>\n",
              "      <td>0.100</td>\n",
              "      <td>0.797</td>\n",
              "      <td>0.103</td>\n",
              "    </tr>\n",
              "    <tr>\n",
              "      <th>3</th>\n",
              "      <td>0.476612</td>\n",
              "      <td>0.262024</td>\n",
              "      <td>0.9633</td>\n",
              "      <td>0.124</td>\n",
              "      <td>0.722</td>\n",
              "      <td>0.154</td>\n",
              "    </tr>\n",
              "    <tr>\n",
              "      <th>4</th>\n",
              "      <td>0.439394</td>\n",
              "      <td>0.248485</td>\n",
              "      <td>-0.4215</td>\n",
              "      <td>0.152</td>\n",
              "      <td>0.704</td>\n",
              "      <td>0.143</td>\n",
              "    </tr>\n",
              "    <tr>\n",
              "      <th>...</th>\n",
              "      <td>...</td>\n",
              "      <td>...</td>\n",
              "      <td>...</td>\n",
              "      <td>...</td>\n",
              "      <td>...</td>\n",
              "      <td>...</td>\n",
              "    </tr>\n",
              "    <tr>\n",
              "      <th>5508</th>\n",
              "      <td>0.423928</td>\n",
              "      <td>0.077665</td>\n",
              "      <td>-0.9997</td>\n",
              "      <td>0.148</td>\n",
              "      <td>0.730</td>\n",
              "      <td>0.121</td>\n",
              "    </tr>\n",
              "    <tr>\n",
              "      <th>5509</th>\n",
              "      <td>0.404816</td>\n",
              "      <td>0.051899</td>\n",
              "      <td>-0.9999</td>\n",
              "      <td>0.148</td>\n",
              "      <td>0.754</td>\n",
              "      <td>0.098</td>\n",
              "    </tr>\n",
              "    <tr>\n",
              "      <th>5510</th>\n",
              "      <td>0.414129</td>\n",
              "      <td>0.064769</td>\n",
              "      <td>-0.9998</td>\n",
              "      <td>0.143</td>\n",
              "      <td>0.752</td>\n",
              "      <td>0.106</td>\n",
              "    </tr>\n",
              "    <tr>\n",
              "      <th>5511</th>\n",
              "      <td>0.402779</td>\n",
              "      <td>0.043667</td>\n",
              "      <td>-0.9998</td>\n",
              "      <td>0.120</td>\n",
              "      <td>0.803</td>\n",
              "      <td>0.077</td>\n",
              "    </tr>\n",
              "    <tr>\n",
              "      <th>5512</th>\n",
              "      <td>0.376500</td>\n",
              "      <td>0.064094</td>\n",
              "      <td>-0.9999</td>\n",
              "      <td>0.175</td>\n",
              "      <td>0.742</td>\n",
              "      <td>0.083</td>\n",
              "    </tr>\n",
              "  </tbody>\n",
              "</table>\n",
              "<p>5513 rows × 6 columns</p>\n",
              "</div>"
            ],
            "text/plain": [
              "      Subjectivity  Polarity  Compound  Negative  Neutral  Positive\n",
              "0         0.282333  0.151333   -0.9811     0.122    0.807     0.071\n",
              "1         0.407692  0.088462   -0.2640     0.122    0.766     0.111\n",
              "2         0.446847  0.087961    0.8738     0.100    0.797     0.103\n",
              "3         0.476612  0.262024    0.9633     0.124    0.722     0.154\n",
              "4         0.439394  0.248485   -0.4215     0.152    0.704     0.143\n",
              "...            ...       ...       ...       ...      ...       ...\n",
              "5508      0.423928  0.077665   -0.9997     0.148    0.730     0.121\n",
              "5509      0.404816  0.051899   -0.9999     0.148    0.754     0.098\n",
              "5510      0.414129  0.064769   -0.9998     0.143    0.752     0.106\n",
              "5511      0.402779  0.043667   -0.9998     0.120    0.803     0.077\n",
              "5512      0.376500  0.064094   -0.9999     0.175    0.742     0.083\n",
              "\n",
              "[5513 rows x 6 columns]"
            ]
          },
          "metadata": {
            "tags": []
          },
          "execution_count": 29
        }
      ]
    },
    {
      "cell_type": "code",
      "metadata": {
        "id": "NVMV3f8MHFo7",
        "colab": {
          "base_uri": "https://localhost:8080/",
          "height": 204
        },
        "outputId": "ef5c44bb-e21a-423a-f297-cb3ae4133aef"
      },
      "source": [
        "from sklearn.preprocessing import MinMaxScaler\n",
        "sc = MinMaxScaler()\n",
        "new_df = pd.DataFrame(sc.fit_transform(dff))\n",
        "new_df.columns = dff.columns\n",
        "new_df.index = dff.index\n",
        "new_df.head()"
      ],
      "execution_count": 30,
      "outputs": [
        {
          "output_type": "execute_result",
          "data": {
            "text/html": [
              "<div>\n",
              "<style scoped>\n",
              "    .dataframe tbody tr th:only-of-type {\n",
              "        vertical-align: middle;\n",
              "    }\n",
              "\n",
              "    .dataframe tbody tr th {\n",
              "        vertical-align: top;\n",
              "    }\n",
              "\n",
              "    .dataframe thead th {\n",
              "        text-align: right;\n",
              "    }\n",
              "</style>\n",
              "<table border=\"1\" class=\"dataframe\">\n",
              "  <thead>\n",
              "    <tr style=\"text-align: right;\">\n",
              "      <th></th>\n",
              "      <th>Subjectivity</th>\n",
              "      <th>Polarity</th>\n",
              "      <th>Compound</th>\n",
              "      <th>Negative</th>\n",
              "      <th>Neutral</th>\n",
              "      <th>Positive</th>\n",
              "    </tr>\n",
              "  </thead>\n",
              "  <tbody>\n",
              "    <tr>\n",
              "      <th>0</th>\n",
              "      <td>0.282333</td>\n",
              "      <td>0.427407</td>\n",
              "      <td>0.00945</td>\n",
              "      <td>0.274775</td>\n",
              "      <td>0.807</td>\n",
              "      <td>0.116776</td>\n",
              "    </tr>\n",
              "    <tr>\n",
              "      <th>1</th>\n",
              "      <td>0.407692</td>\n",
              "      <td>0.357550</td>\n",
              "      <td>0.36800</td>\n",
              "      <td>0.274775</td>\n",
              "      <td>0.766</td>\n",
              "      <td>0.182566</td>\n",
              "    </tr>\n",
              "    <tr>\n",
              "      <th>2</th>\n",
              "      <td>0.446847</td>\n",
              "      <td>0.356994</td>\n",
              "      <td>0.93690</td>\n",
              "      <td>0.225225</td>\n",
              "      <td>0.797</td>\n",
              "      <td>0.169408</td>\n",
              "    </tr>\n",
              "    <tr>\n",
              "      <th>3</th>\n",
              "      <td>0.476612</td>\n",
              "      <td>0.550397</td>\n",
              "      <td>0.98165</td>\n",
              "      <td>0.279279</td>\n",
              "      <td>0.722</td>\n",
              "      <td>0.253289</td>\n",
              "    </tr>\n",
              "    <tr>\n",
              "      <th>4</th>\n",
              "      <td>0.439394</td>\n",
              "      <td>0.535354</td>\n",
              "      <td>0.28925</td>\n",
              "      <td>0.342342</td>\n",
              "      <td>0.704</td>\n",
              "      <td>0.235197</td>\n",
              "    </tr>\n",
              "  </tbody>\n",
              "</table>\n",
              "</div>"
            ],
            "text/plain": [
              "   Subjectivity  Polarity  Compound  Negative  Neutral  Positive\n",
              "0      0.282333  0.427407   0.00945  0.274775    0.807  0.116776\n",
              "1      0.407692  0.357550   0.36800  0.274775    0.766  0.182566\n",
              "2      0.446847  0.356994   0.93690  0.225225    0.797  0.169408\n",
              "3      0.476612  0.550397   0.98165  0.279279    0.722  0.253289\n",
              "4      0.439394  0.535354   0.28925  0.342342    0.704  0.235197"
            ]
          },
          "metadata": {
            "tags": []
          },
          "execution_count": 30
        }
      ]
    },
    {
      "cell_type": "code",
      "metadata": {
        "id": "aSLwfiWAHMo1"
      },
      "source": [
        "X = new_df[0:252]\n",
        "y =df['Close']"
      ],
      "execution_count": 37,
      "outputs": []
    },
    {
      "cell_type": "code",
      "metadata": {
        "id": "QexfHoCAHQTS",
        "colab": {
          "base_uri": "https://localhost:8080/"
        },
        "outputId": "dc0d814a-827c-461e-9fe5-ca400b68a057"
      },
      "source": [
        "from sklearn.model_selection import train_test_split\n",
        "\n",
        "x_train, x_test, y_train, y_test = train_test_split(X, y, test_size=0.2, random_state = 0)\n",
        "x_train.shape\n"
      ],
      "execution_count": 38,
      "outputs": [
        {
          "output_type": "execute_result",
          "data": {
            "text/plain": [
              "(201, 6)"
            ]
          },
          "metadata": {
            "tags": []
          },
          "execution_count": 38
        }
      ]
    },
    {
      "cell_type": "code",
      "metadata": {
        "id": "Ey7dYll_HSys",
        "colab": {
          "base_uri": "https://localhost:8080/",
          "height": 359
        },
        "outputId": "116e03df-84e0-4d93-cecc-f4b3c3fa6be8"
      },
      "source": [
        "x_train[:10]"
      ],
      "execution_count": 39,
      "outputs": [
        {
          "output_type": "execute_result",
          "data": {
            "text/html": [
              "<div>\n",
              "<style scoped>\n",
              "    .dataframe tbody tr th:only-of-type {\n",
              "        vertical-align: middle;\n",
              "    }\n",
              "\n",
              "    .dataframe tbody tr th {\n",
              "        vertical-align: top;\n",
              "    }\n",
              "\n",
              "    .dataframe thead th {\n",
              "        text-align: right;\n",
              "    }\n",
              "</style>\n",
              "<table border=\"1\" class=\"dataframe\">\n",
              "  <thead>\n",
              "    <tr style=\"text-align: right;\">\n",
              "      <th></th>\n",
              "      <th>Subjectivity</th>\n",
              "      <th>Polarity</th>\n",
              "      <th>Compound</th>\n",
              "      <th>Negative</th>\n",
              "      <th>Neutral</th>\n",
              "      <th>Positive</th>\n",
              "    </tr>\n",
              "  </thead>\n",
              "  <tbody>\n",
              "    <tr>\n",
              "      <th>162</th>\n",
              "      <td>0.388796</td>\n",
              "      <td>0.279011</td>\n",
              "      <td>0.00070</td>\n",
              "      <td>0.315315</td>\n",
              "      <td>0.785</td>\n",
              "      <td>0.123355</td>\n",
              "    </tr>\n",
              "    <tr>\n",
              "      <th>159</th>\n",
              "      <td>0.334261</td>\n",
              "      <td>0.358519</td>\n",
              "      <td>0.00050</td>\n",
              "      <td>0.430180</td>\n",
              "      <td>0.734</td>\n",
              "      <td>0.123355</td>\n",
              "    </tr>\n",
              "    <tr>\n",
              "      <th>76</th>\n",
              "      <td>0.440657</td>\n",
              "      <td>0.470960</td>\n",
              "      <td>0.90285</td>\n",
              "      <td>0.150901</td>\n",
              "      <td>0.826</td>\n",
              "      <td>0.175987</td>\n",
              "    </tr>\n",
              "    <tr>\n",
              "      <th>59</th>\n",
              "      <td>0.493362</td>\n",
              "      <td>0.476381</td>\n",
              "      <td>0.08270</td>\n",
              "      <td>0.376126</td>\n",
              "      <td>0.705</td>\n",
              "      <td>0.210526</td>\n",
              "    </tr>\n",
              "    <tr>\n",
              "      <th>176</th>\n",
              "      <td>0.368197</td>\n",
              "      <td>0.310508</td>\n",
              "      <td>0.00045</td>\n",
              "      <td>0.328829</td>\n",
              "      <td>0.762</td>\n",
              "      <td>0.151316</td>\n",
              "    </tr>\n",
              "    <tr>\n",
              "      <th>229</th>\n",
              "      <td>0.383692</td>\n",
              "      <td>0.296192</td>\n",
              "      <td>0.00040</td>\n",
              "      <td>0.333333</td>\n",
              "      <td>0.760</td>\n",
              "      <td>0.152961</td>\n",
              "    </tr>\n",
              "    <tr>\n",
              "      <th>18</th>\n",
              "      <td>0.410714</td>\n",
              "      <td>0.361523</td>\n",
              "      <td>0.12245</td>\n",
              "      <td>0.297297</td>\n",
              "      <td>0.744</td>\n",
              "      <td>0.203947</td>\n",
              "    </tr>\n",
              "    <tr>\n",
              "      <th>221</th>\n",
              "      <td>0.401931</td>\n",
              "      <td>0.336948</td>\n",
              "      <td>0.00210</td>\n",
              "      <td>0.281532</td>\n",
              "      <td>0.781</td>\n",
              "      <td>0.154605</td>\n",
              "    </tr>\n",
              "    <tr>\n",
              "      <th>15</th>\n",
              "      <td>0.292222</td>\n",
              "      <td>0.437830</td>\n",
              "      <td>0.92240</td>\n",
              "      <td>0.299550</td>\n",
              "      <td>0.714</td>\n",
              "      <td>0.251645</td>\n",
              "    </tr>\n",
              "    <tr>\n",
              "      <th>152</th>\n",
              "      <td>0.379089</td>\n",
              "      <td>0.324312</td>\n",
              "      <td>0.00375</td>\n",
              "      <td>0.337838</td>\n",
              "      <td>0.736</td>\n",
              "      <td>0.187500</td>\n",
              "    </tr>\n",
              "  </tbody>\n",
              "</table>\n",
              "</div>"
            ],
            "text/plain": [
              "     Subjectivity  Polarity  Compound  Negative  Neutral  Positive\n",
              "162      0.388796  0.279011   0.00070  0.315315    0.785  0.123355\n",
              "159      0.334261  0.358519   0.00050  0.430180    0.734  0.123355\n",
              "76       0.440657  0.470960   0.90285  0.150901    0.826  0.175987\n",
              "59       0.493362  0.476381   0.08270  0.376126    0.705  0.210526\n",
              "176      0.368197  0.310508   0.00045  0.328829    0.762  0.151316\n",
              "229      0.383692  0.296192   0.00040  0.333333    0.760  0.152961\n",
              "18       0.410714  0.361523   0.12245  0.297297    0.744  0.203947\n",
              "221      0.401931  0.336948   0.00210  0.281532    0.781  0.154605\n",
              "15       0.292222  0.437830   0.92240  0.299550    0.714  0.251645\n",
              "152      0.379089  0.324312   0.00375  0.337838    0.736  0.187500"
            ]
          },
          "metadata": {
            "tags": []
          },
          "execution_count": 39
        }
      ]
    },
    {
      "cell_type": "markdown",
      "metadata": {
        "id": "I2Zgk2JB1HMs"
      },
      "source": [
        "#  Training a Random Forest Regressor and Adaboost Regressor for hybrid analysis"
      ]
    },
    {
      "cell_type": "code",
      "metadata": {
        "id": "Ru-wTyu8HU55"
      },
      "source": [
        "rf = RandomForestRegressor()\n",
        "rf.fit(x_train, y_train)\n",
        "prediction=rf.predict(x_test)"
      ],
      "execution_count": 40,
      "outputs": []
    },
    {
      "cell_type": "code",
      "metadata": {
        "id": "ymrhRzB6HYMP",
        "colab": {
          "base_uri": "https://localhost:8080/"
        },
        "outputId": "db7e98cc-61da-4765-a6b4-faece3a8f377"
      },
      "source": [
        "print(prediction[:10])\n",
        "print(y_test[:10])\n",
        "print(\"Root mean square error = \",math.sqrt(mean_squared_error(prediction,y_test)),\" RMSE\")"
      ],
      "execution_count": 41,
      "outputs": [
        {
          "output_type": "stream",
          "text": [
            "[119.16032436  88.45967516 114.49324886  84.24667631 110.44242514\n",
            " 122.96152434  91.51925004 117.8748501   78.02674947 123.40869854]\n",
            "158    120.879997\n",
            "83      78.285004\n",
            "170    111.809998\n",
            "101     85.747498\n",
            "150    125.857498\n",
            "199    108.769997\n",
            "118     95.752502\n",
            "227    122.410004\n",
            "63      67.092499\n",
            "135    108.937500\n",
            "Name: Close, dtype: float64\n",
            "Root mean square error =  16.714857260829913  RMSE\n"
          ],
          "name": "stdout"
        }
      ]
    },
    {
      "cell_type": "code",
      "metadata": {
        "id": "jqgud7fRHdK0"
      },
      "source": [
        "adb = AdaBoostRegressor()\n",
        "adb.fit(x_train, y_train)\n",
        "predictions = adb.predict(x_test)"
      ],
      "execution_count": 42,
      "outputs": []
    },
    {
      "cell_type": "code",
      "metadata": {
        "id": "ndITNDrQHkxA",
        "colab": {
          "base_uri": "https://localhost:8080/"
        },
        "outputId": "48525d64-e91d-440b-cc9c-4367b77fbba1"
      },
      "source": [
        "print(\"Root mean square error = \",math.sqrt(mean_squared_error(predictions, y_test)),\" RMSE\")"
      ],
      "execution_count": 43,
      "outputs": [
        {
          "output_type": "stream",
          "text": [
            "Root mean square error =  15.236885062145813  RMSE\n"
          ],
          "name": "stdout"
        }
      ]
    }
  ]
}